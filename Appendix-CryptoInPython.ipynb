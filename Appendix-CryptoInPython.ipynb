{
 "cells": [
  {
   "cell_type": "markdown",
   "id": "77fbaeb3-e9ea-4628-bdd9-902d90059df5",
   "metadata": {},
   "source": [
    "# Appendix B - Cryptography with Python"
   ]
  },
  {
   "cell_type": "markdown",
   "id": "8201eebb-a8e2-4cca-9932-3681bfa9bda6",
   "metadata": {},
   "source": [
    "In this appendix we include python code for all the ciphers we have considered in these notes.\n",
    "We recommend you use python in the online jupyter notebook provided by the Pacific Institute of the Mathematical Science and Compute Canada, which is free for all students to use, and can be found at  \n",
    "\n",
    "> [https://pims.syzygy.ca/]\n",
    "\n",
    "Login using your existing google account (it is required to have a google account to use this service).\n",
    "\n",
    "Once you login you can create a new Python 3 notebook and begin coding right away.  Also, you can import jupyter notebooks that others create and share (these have a \\verb|.ipynb| extension). During this camp we'll share with you the jupyter notebook containing all the code in this appendix, and we'll demonstrate how to get started with it.\n",
    "\n",
    "Quite a bit of this code was inspired by the excellent book *Cracking Codes with Python*, by Al Sweigart.\n",
    "> [https://inventwithpython.com/cracking/]"
   ]
  },
  {
   "cell_type": "markdown",
   "id": "e43854ba-335d-4d68-a9cf-6f6ff85def49",
   "metadata": {},
   "source": [
    "## Shift Cipher\n",
    "\n",
    "Below we provide an implementation of the Shift Cipher as `functions`. These are packets of code designed to do specific tasks; they are given names so we can call upon them later in our code. \n",
    "\n",
    "A few comments are in order about reading the code:\n",
    "\n",
    "1. First, it is perfectly ok if you don't understand what is going on. We'll talk about this during the camp. Getting a feel for what the code does by using it in examples is a good place to start. Once you get a feel for *what* it does, then you are ready to explore *how* it does it.\n",
    "\n",
    "2. Second, whitespace is important in Python — not just for readability, but it is actually how Python determines how to group lines of code for execution.\n",
    "\n",
    "3. Third, text in green and blue are keywords Python recognizes (i.e. they mean something to Python). Lines beginning with `#` or surrounded by triple quotes `\"\"\"` are comments. These are notes to the reader to improve the ability for a human to read the code — Python ignores these lines when executing the program.\n",
    "\n",
    "We define two functions: `shiftEncrypt` and `shiftDecrypt`. Both functions call `shiftCipher`, which takes as input:\n",
    "\n",
    "1. `key` - the encryption key for how much each symbol should be shifted to the right along the `symbolList`.\n",
    "\n",
    "2. `message` - a message to be encrypted/decrypted.\n",
    "\n",
    "3. `mode` - which is either `'encrypt'` or `'decrypt'`.\n",
    "\n",
    "4. `symbolList` - an (ordered) string of symbols (default = `'ABCDEFGHIJKLMNOPQRSTUVWXYZ'`).\n",
    "\n",
    "Click on the cell below, then press 'shift-enter', or the play button in the menu above, to run the cell. This will load the funtions into Pythons memory."
   ]
  },
  {
   "cell_type": "code",
   "execution_count": 1,
   "id": "43e8c0f2-74e4-4177-bb20-bb3d22389d06",
   "metadata": {},
   "outputs": [],
   "source": [
    "def shiftEncrypt(key, message, symbolList='ABCDEFGHIJKLMNOPQRSTUVWXYZ'):\n",
    "    \"\"\"Return the ciphertext of message encrypted using the Shift \n",
    "    cipher with key. Default symbolList is A-Z\"\"\"\n",
    "    return(shiftCipher(key, message, 'encrypt', symbolList))\n",
    "\n",
    "def shiftDecrypt(key, message, symbolList='ABCDEFGHIJKLMNOPQRSTUVWXYZ'):\n",
    "    \"\"\"Return the plaintext of message encrypted using the Shift \n",
    "    cipher with key. Default symbolList is A-Z\"\"\"\n",
    "    return(shiftCipher(key, message, 'decrypt', symbolList))  \n",
    "        \n",
    "def shiftCipher(key, message, mode, symbolList):\n",
    "    # mode = 'encrypt' OR mode = 'decrypt'\n",
    "    \n",
    "    # Every possible symbol that can be encrypted:\n",
    "    SYMBOLS = symbolList\n",
    "\n",
    "    # Store the encrypted/decrypted form of the message:\n",
    "    translated = ''\n",
    "    \n",
    "    for symbol in message:\n",
    "    # Note: Only symbols in the SYMBOLS string can be \n",
    "    # encrypted/decrypted.\n",
    "        if symbol in SYMBOLS:\n",
    "            symbolIndex = SYMBOLS.find(symbol)\n",
    "        \n",
    "            # Perform encryption/decryption:\n",
    "            if mode == 'encrypt':\n",
    "                translatedIndex = (symbolIndex + key) % len(SYMBOLS)\n",
    "            elif mode == 'decrypt':\n",
    "                translatedIndex = (symbolIndex - key) % len(SYMBOLS)\n",
    "            \n",
    "            # Append the encrypted/decrypted symbol to the end of \n",
    "            # the translated string\n",
    "            translated = translated + SYMBOLS[translatedIndex]\n",
    "        else:\n",
    "            # Append the symbol without encrypting/decrypting\n",
    "            translated = translated + symbol\n",
    "\n",
    "    # Output the translated string\n",
    "    return translated"
   ]
  },
  {
   "cell_type": "markdown",
   "id": "ee441601-4660-485a-ad00-c9b401568d95",
   "metadata": {},
   "source": [
    "An example of how to use this function is shown below. Again, use 'shift-enter' to run the cell, or press that play button in the menu at the top."
   ]
  },
  {
   "cell_type": "code",
   "execution_count": 2,
   "id": "cf8fe89f-5cf2-4f84-874f-cd63dd96f27c",
   "metadata": {},
   "outputs": [
    {
     "name": "stdout",
     "output_type": "stream",
     "text": [
      "ESTD TD XJ DPNCPE XPDDLRP.\n",
      "THIS IS MY SECRET MESSAGE.\n"
     ]
    }
   ],
   "source": [
    "# Example 1 of Shift cipher:\n",
    "SYMBOLS = 'ABCDEFGHIJKLMNOPQRSTUVWXYZ' # default alphabet\n",
    "message = 'THIS IS MY SECRET MESSAGE.'\n",
    "key = 11    # shift characters 11 places right in SYMBOLS list.\n",
    "\n",
    "# encrypt plain text message\n",
    "translated = shiftEncrypt(key, message, SYMBOLS)\n",
    "print(translated)\n",
    "\n",
    "# decrypt cipher text\n",
    "print(shiftDecrypt(key, translated, SYMBOLS))"
   ]
  },
  {
   "cell_type": "markdown",
   "id": "ac15e384-dc49-47e9-8173-be0f7a2eccf4",
   "metadata": {},
   "source": [
    "Now that we have the computer do all the work of encrypting/decrypting we can increase the size of the symbols list to include both upper and lower case letter, digits, spaces, and punctuation. As the next example shows, this makes the cipher text look even more cryptic!"
   ]
  },
  {
   "cell_type": "code",
   "execution_count": 4,
   "id": "f78f42d7-b94c-4799-9493-4787d1fc2fab",
   "metadata": {},
   "outputs": [
    {
     "name": "stdout",
     "output_type": "stream",
     "text": [
      "est4Ht4Hx0H4pn3p5Hxp44lrp\n",
      "This is my secret message\n"
     ]
    }
   ],
   "source": [
    "# Example 2 of Shift cipher:\n",
    "SYMBOLS = 'ABCDEFGHIJKLMNOPQRSTUVWXYZabcdefghijklmnopqrstuvwxyz1234567890 !?.'\n",
    "\n",
    "message = 'This is my secret message'\n",
    "key = 11   # shift characters 11 places right in SYMBOLS list.\n",
    "\n",
    "# encrypt plain text message\n",
    "translated = shiftEncrypt(key, message, SYMBOLS)\n",
    "print(translated)\n",
    "\n",
    "# decrypt cipher text\n",
    "print(shiftDecrypt(key, translated, SYMBOLS))"
   ]
  },
  {
   "cell_type": "markdown",
   "id": "a07854f3-5450-439b-88aa-92cd39310b82",
   "metadata": {},
   "source": [
    "## Substitution Cipher\n",
    "\n",
    "First start with a string of symbols that are to be encoded. Anything not included here will remain unchanged in the ciphertext.  \n",
    "By default the list of symbols is:\n",
    "\n",
    "`SYMBOLS = 'ABCDEFGHIJKLMNOPQRSTUVWXYZ'`\n",
    "\n",
    "We define two functions: `substitutionEncrypt` and `substitutionDecrypt`. Both functions call `substitutionCipher`, which takes as input:\n",
    "\n",
    "1. `key` – the encryption key for how the original set of `SYMBOLS` will be permuted (this can be generated by `getRandomKey(SYMBOLS)`)\n",
    "\n",
    "2. `message` – a message to be encrypted/decrypted\n",
    "\n",
    "3. `mode` – which is either `'encrypt'` or `'decrypt'`\n",
    "\n",
    "4. `symbolList` – an (ordered) string of symbols (default = `'ABCDEFGHIJKLMNOPQRSTUVWXYZ'`)\n",
    "Let me know if you'd like to format this as a complete Markdown document or include sample code blocks."
   ]
  },
  {
   "cell_type": "code",
   "execution_count": 7,
   "id": "43a9b59c-6c2c-4b74-b302-b7c4205b785b",
   "metadata": {},
   "outputs": [],
   "source": [
    "import random\n",
    "\n",
    "def keyIsValid(key, symbolList='ABCDEFGHIJKLMNOPQRSTUVWXYZ'):\n",
    "    keyList = list(key)\n",
    "    lettersList = list(symbolList)\n",
    "    keyList.sort()\n",
    "    lettersList.sort()\n",
    "    \n",
    "    return keyList == lettersList\n",
    "\n",
    "def getRandomKey(symbolList='ABCDEFGHIJKLMNOPQRSTUVWXYZ'):\n",
    "    key = list(symbolList)\n",
    "    random.shuffle(key)\n",
    "    return ''.join(key)\n",
    "\n",
    "def substitutionEncrypt(key, message, symbolList='ABCDEFGHIJKLMNOPQRSTUVWXYZ'):\n",
    "    return substitutionCipher(key, message, 'encrypt', symbolList)\n",
    "\n",
    "def substitutionDecrypt(key, message, symbolList='ABCDEFGHIJKLMNOPQRSTUVWXYZ'):\n",
    "    return substitutionCipher(key, message, 'decrypt', symbolList)\n",
    "\n",
    "def substitutionCipher(key, message, mode, symbolList='ABCDEFGHIJKLMNOPQRSTUVWXYZ'):\n",
    "    translated = ''\n",
    "    charsA = symbolList\n",
    "    charsB = key\n",
    "    if mode == 'decrypt':\n",
    "        # For decrypting, we can use the same code as encrypting. \n",
    "        # We just need to swap where the key and symbols strings.\n",
    "        charsA, charsB = charsB, charsA\n",
    "    \n",
    "    # Loop through each symbol in the message:\n",
    "    for symbol in message:\n",
    "        symIndex = charsA.find(symbol)\n",
    "        if symIndex != -1:\n",
    "            translated += charsB[symIndex]\n",
    "        else:\n",
    "            # Symbol is not in symbolList; just add it:\n",
    "            translated += symbol\n",
    "    \n",
    "    return translated    "
   ]
  },
  {
   "cell_type": "code",
   "execution_count": 10,
   "id": "1d2b0ce3-7ee9-4a84-899b-e440ecc29949",
   "metadata": {},
   "outputs": [
    {
     "name": "stdout",
     "output_type": "stream",
     "text": [
      "Using key: TAKMQUWFBDGCPSJZHLEIVYNRXO\n",
      "The encrypted message is: IFBE BE T EQKLQI PQEETWQ.\n"
     ]
    }
   ],
   "source": [
    "# Example 1 of Substitution cipher:\n",
    "SYMBOLS = 'ABCDEFGHIJKLMNOPQRSTUVWXYZ'\n",
    "\n",
    "key = getRandomKey(SYMBOLS)\n",
    "mode = 'encrypt' # Set to 'encrypt' or 'decrypt'.\n",
    "message = 'THIS IS A SECRET MESSAGE.'\n",
    "ciphertext = substitutionEncrypt(key,message,SYMBOLS)\n",
    "print('Using key: {0}'.format(key))\n",
    "print('The encrypted message is: {0}'.format(ciphertext))"
   ]
  },
  {
   "cell_type": "markdown",
   "id": "3e3e43e9-8e8b-4bf5-b3c3-0511c053e64c",
   "metadata": {},
   "source": [
    "## Transposition Cipher\n",
    "\n",
    "We define two functions: `transpositionEncrypt` and `transpositionDecrypt`. Both functions take as input:\n",
    "\n",
    "1. `key` – the encryption key that determines how many columns the table will have  \n",
    "2. `message` – a message to be encrypted/decrypted"
   ]
  },
  {
   "cell_type": "code",
   "execution_count": 11,
   "id": "82b6c981-f6a4-4395-b2d2-8415cfda74ee",
   "metadata": {},
   "outputs": [],
   "source": [
    "import math\n",
    "\n",
    "def transpositionEncrypt(key, message):\n",
    "    # Each string in ciphertext represents a column in the grid:\n",
    "    ciphertext = [''] * key\n",
    "\n",
    "    # Loop through each column in ciphertext:\n",
    "    for column in range(key):\n",
    "        currentIndex = column\n",
    "        \n",
    "        # Keep looping until currentIndex goes past the message length:\n",
    "        while currentIndex < len(message):\n",
    "            # Place the character at currentIndex in message at the\n",
    "            # end of the current column in the ciphertext list:\n",
    "            ciphertext[column] += message[currentIndex]\n",
    "\n",
    "            # Move currentIndex over:\n",
    "            currentIndex += key\n",
    "            \n",
    "    # Convert the ciphertext list into a single string value and return it:\n",
    "    return ''.join(ciphertext)\n",
    "\n",
    "\n",
    "def transpositionDecrypt(key, message):\n",
    "    # The transposition decrypt function will simulate the \"columns\" and\n",
    "    # \"rows\" of the grid that the plaintext is written on by using a list\n",
    "    # of strings. First, we need to calculate a few values.\n",
    "\n",
    "    # The number of \"columns\" in our transposition grid:\n",
    "    numOfColumns = int(math.ceil(len(message) / float(key)))\n",
    "    \n",
    "    # The number of \"rows\" in our grid:\n",
    "    numOfRows = key\n",
    "    # The number of \"shaded boxes\" in the last \"column\" of the grid:\n",
    "    numOfShadedBoxes = (numOfColumns * numOfRows) - len(message)\n",
    "    \n",
    "    # Each string in plaintext represents a column in the grid:\n",
    "    plaintext = [''] * numOfColumns\n",
    "\n",
    "    # The column and row variables point to where in the grid the next\n",
    "    # character in the encrypted message will go:\n",
    "    column = 0\n",
    "    row = 0\n",
    "    \n",
    "    for symbol in message:\n",
    "        plaintext[column] += symbol\n",
    "        column += 1 # Point to the next column.\n",
    "\n",
    "        # If there are no more columns OR we're at a shaded box,\n",
    "        # go back to the first column and the next row:\n",
    "        if (column == numOfColumns) or (column == numOfColumns - 1 \n",
    "                           and row >= numOfRows - numOfShadedBoxes):\n",
    "            column = 0\n",
    "            row += 1\n",
    "\n",
    "    return ''.join(plaintext)"
   ]
  },
  {
   "cell_type": "code",
   "execution_count": 12,
   "id": "d206edf8-670b-415b-8de4-f5b859bcde9b",
   "metadata": {},
   "outputs": [
    {
     "data": {
      "text/plain": [
       "'te h sla  heoe  ep\\nte nr nsp hrw   o.l eeiit r e   tto  Hs twh.o lo  ra  k eww esaI  f e e p \\natmr ?apn p ae  le pan  tei lpyo rst ep n '"
      ]
     },
     "execution_count": 12,
     "metadata": {},
     "output_type": "execute_result"
    }
   ],
   "source": [
    "# Example 1 of Transposition cipher:\n",
    "message = '''there was a tree with apples on it. I neither took \n",
    "             apples nor left apples. How many apples were on \n",
    "             the tree?'''\n",
    "key = 14\n",
    "transpositionEncrypt(key, message)"
   ]
  },
  {
   "cell_type": "markdown",
   "id": "1e2b09e3-35ac-4926-a7f1-e75aad0ae066",
   "metadata": {},
   "source": [
    "## Number Theory\n",
    "\n",
    "Below are the implementations of the algorithms to compute: `gcd`, `xgcd`, $a^{-1} \\bmod m$, and Euler's $\\phi$-function.\n"
   ]
  },
  {
   "cell_type": "code",
   "execution_count": 15,
   "id": "0c4867fa-abce-480f-954b-fc12ef06b49b",
   "metadata": {},
   "outputs": [],
   "source": [
    "def gcd(a,b):\n",
    "    \"\"\"Return the GCD of a and b using Euclid's Algorithm.\"\"\"\n",
    "    while b > 0:\n",
    "        a, b = b, a%b\n",
    "    return a\n",
    "    \n",
    "def xgcd(a,b):\n",
    "    \"\"\"Extended GCD:\n",
    "    Returns (gcd, x, y) where gcd is the greatest common divisor \n",
    "    of a and b with the sign of b if b is nonzero, and with the \n",
    "    sign of a if b is 0. The numbers x,y are such that \n",
    "    gcd = ax+by.\"\"\"\n",
    "    prevx, x = 1, 0;  prevy, y = 0, 1\n",
    "    while b:\n",
    "        q, r = divmod(a,b)\n",
    "        x, prevx = prevx - q*x, x  \n",
    "        y, prevy = prevy - q*y, y\n",
    "        a, b = b, r\n",
    "    return a, prevx, prevy    \n",
    "\n",
    "def findModInverse(a,m):\n",
    "    \"\"\"Return the modular inverse of a%m, which is the number \n",
    "    x such that a*x = 1 mod m.\"\"\"\n",
    "    if gcd(a,m) != 1:\n",
    "        return None # No mod inverse if a & m not relatively prime.\n",
    "    \n",
    "    # Calculate using the extended Euclidean algorithm\n",
    "    return xgcd(a,m)[1]%m\n",
    "\n",
    "\n",
    "def eulerPhi(a):\n",
    "    \"\"\"Return the number of positive integers less than\n",
    "    a that are relatively prime to a\"\"\"\n",
    "    if a == 1:\n",
    "        return 1\n",
    "    else:\n",
    "        m = [n for n in range(1,a) if gcd(a,n)==1]\n",
    "        return len(m) "
   ]
  },
  {
   "cell_type": "markdown",
   "id": "4f3ca839-e03c-483a-8e28-ba3f1d51cd25",
   "metadata": {},
   "source": [
    "Here are some examples of how to use these functions."
   ]
  },
  {
   "cell_type": "code",
   "execution_count": 16,
   "id": "f0624bae-1e42-4ca5-aa9a-ceee48b4bebc",
   "metadata": {},
   "outputs": [
    {
     "data": {
      "text/plain": [
       "210"
      ]
     },
     "execution_count": 16,
     "metadata": {},
     "output_type": "execute_result"
    }
   ],
   "source": [
    "gcd(124950,68040)"
   ]
  },
  {
   "cell_type": "code",
   "execution_count": 17,
   "id": "823df558-261d-4769-bab2-75a1f5454d41",
   "metadata": {},
   "outputs": [
    {
     "data": {
      "text/plain": [
       "9"
      ]
     },
     "execution_count": 17,
     "metadata": {},
     "output_type": "execute_result"
    }
   ],
   "source": [
    "findModInverse(3,26)"
   ]
  },
  {
   "cell_type": "code",
   "execution_count": 18,
   "id": "887a9653-e3fc-4411-ab71-570a5975235e",
   "metadata": {},
   "outputs": [
    {
     "data": {
      "text/plain": [
       "1"
      ]
     },
     "execution_count": 18,
     "metadata": {},
     "output_type": "execute_result"
    }
   ],
   "source": [
    "# check\n",
    "3*9 % 26\t"
   ]
  },
  {
   "cell_type": "code",
   "execution_count": 19,
   "id": "fb72ba7e-5c45-4a75-bfca-f6a11ac2b826",
   "metadata": {},
   "outputs": [
    {
     "data": {
      "text/plain": [
       "4"
      ]
     },
     "execution_count": 19,
     "metadata": {},
     "output_type": "execute_result"
    }
   ],
   "source": [
    "eulerPhi(10)"
   ]
  },
  {
   "cell_type": "markdown",
   "id": "d8dca693-7b20-4e84-859e-66df7b71ab73",
   "metadata": {},
   "source": [
    "## Affine Cipher\n",
    "\n",
    "Start with a string of symbols that are to be encoded. Anything not included here will remain unchanged in the ciphertext.  \n",
    "By default the list of symbols is:\n",
    "\n",
    "`SYMBOLS = 'ABCDEFGHIJKLMNOPQRSTUVWXYZ'`\n",
    "\n",
    "We define two functions: `affineEncrypt` and `affineDecrypt`. Both functions call `affineCipher`, which takes as input:\n",
    "\n",
    "1. `keyA`, `keyB` – the encryption key:  \n",
    "   $0 \\le \\text{keyA}, \\text{keyB} \\le \\text{len(SYMBOLS)}$ and `keyA` must be relatively prime to `len(SYMBOLS)}`\n",
    "2. `message` – a message to be encrypted/decrypted  \n",
    "3. `mode` – which is either `'encrypt'` or `'decrypt'`  \n",
    "4. `symbolList` – an (ordered) string of symbols (default = `'ABCDEFGHIJKLMNOPQRSTUVWXYZ'`)"
   ]
  },
  {
   "cell_type": "code",
   "execution_count": 20,
   "id": "2d88be4a-a72e-4f35-8c2b-70f445949911",
   "metadata": {},
   "outputs": [],
   "source": [
    "# WARNING - First make sure the findModInverse function is executed \n",
    "# (i.e. loaded into python) since the Affine cipher uses this\n",
    "# functions. To do this go up to the cell where this function \n",
    "# is defined and run the cell.\n",
    "\n",
    "def affineEncrypt(keyA, keyB, message, \n",
    "                         symbolList = 'ABCDEFGHIJKLMNOPQRSTUVWXYZ'):\n",
    "    \"\"\"Return the ciphertext of message encrypted using the Affine \n",
    "    cipher with keyA, keyB. Default symbolList is A-Z\"\"\"\n",
    "    return affineCipher(keyA, keyB, message, 'encrypt', symbolList)\n",
    "\n",
    "def affineDecrypt(keyA, keyB, message, \n",
    "                         symbolList = 'ABCDEFGHIJKLMNOPQRSTUVWXYZ'):\n",
    "    \"\"\"Return the plaintext of message encrypted using the Affine \n",
    "    cipher with keyA, keyB. Default symbolList is A-Z\"\"\"\n",
    "    return affineCipher(keyA, keyB, message, 'decrypt', symbolList)\n",
    "        \n",
    "    \n",
    "def affineCipher(keyA, keyB, message, mode, symbolList):\n",
    "    # Every possible symbol that can be encrypted:\n",
    "    SYMBOLS = symbolList\n",
    "    modInverseOfKeyA = findModInverse(keyA,len(SYMBOLS))\n",
    "    \n",
    "    translated = ''\n",
    "    for symbol in message:\n",
    "        if symbol in SYMBOLS:\n",
    "            symbolIndex = SYMBOLS.find(symbol)\n",
    "            if mode == 'encrypt': # Encrypt the symbol\n",
    "                translated += SYMBOLS[(symbolIndex*keyA+keyB) \n",
    "                                                   % len(SYMBOLS)]\n",
    "            elif mode == 'decrypt':  # Decrypt the symbol\n",
    "                translated += SYMBOLS[(symbolIndex-keyB)*\n",
    "                                    modInverseOfKeyA % len(SYMBOLS)]\n",
    "        else:\n",
    "            translated += symbol # Append symbol without encrypting\n",
    "            \n",
    "    return translated    "
   ]
  },
  {
   "cell_type": "code",
   "execution_count": 21,
   "id": "65ad056e-5067-4ce9-92ff-b950b7008979",
   "metadata": {},
   "outputs": [
    {
     "name": "stdout",
     "output_type": "stream",
     "text": [
      "Key: 15, 21\n",
      "message text:\n",
      "THIS IS MY SECRET MESSAGE\n",
      "Encrypted text:\n",
      "UWLF LF TR FDZQDU TDFFVHD\n"
     ]
    }
   ],
   "source": [
    "# Example 1 of Affine cipher:\n",
    "\n",
    "SYMBOLS = 'ABCDEFGHIJKLMNOPQRSTUVWXYZ'\n",
    "\n",
    "myMessage = \"\"\"THIS IS MY SECRET MESSAGE\"\"\"\n",
    "\n",
    "myKeyA = 15   # must be relatively prime to length of SYMBOLS\n",
    "myKeyB = 21\n",
    "    \n",
    "translated = affineEncrypt(myKeyA, myKeyB, myMessage, SYMBOLS)   \n",
    "\n",
    "print('Key: {0}, {1}'.format(myKeyA,myKeyB))\n",
    "print('message text:')\n",
    "print(myMessage) \n",
    "print('Encrypted text:')\n",
    "print(translated)\t"
   ]
  },
  {
   "cell_type": "markdown",
   "id": "789f322e-6e11-40cb-9392-0707a0eb31f1",
   "metadata": {},
   "source": [
    "## Vigenère Cipher\n",
    "\n",
    "Start with a string of symbols that are to be encoded. Anything not included here will remain unchanged in the ciphertext.  \n",
    "By default the list of symbols is:\n",
    "\n",
    "`SYMBOLS = 'ABCDEFGHIJKLMNOPQRSTUVWXYZ'`\n",
    "\n",
    "We define two functions: `vigenereEncrypt` and `vigenereDecrypt`. Both functions call `vigenereCipher`, which takes as input:\n",
    "\n",
    "1. `key` – the encryption key: a string of characters from `symbolList`  \n",
    "2. `message` – a message to be encrypted/decrypted  \n",
    "3. `mode` – which is either `'encrypt'` or `'decrypt'`  \n",
    "4. `symbolList` – an (ordered) string of symbols (default = `'ABCDEFGHIJKLMNOPQRSTUVWXYZ'`)\n"
   ]
  },
  {
   "cell_type": "code",
   "execution_count": 22,
   "id": "51e56464-198d-4d46-be36-67b3c84c82da",
   "metadata": {},
   "outputs": [],
   "source": [
    "def vigenereEncrypt(key, message, symbolList = 'ABCDEFGHIJKLMNOPQRSTUVWXYZ'):\n",
    "    \"\"\"Return the ciphertext of message encrypted using the Vigenere \n",
    "    cipher with key. Default symbolList is A-Z\"\"\"\n",
    "    return vigenereCipher(key, message, 'encrypt', symbolList)\n",
    "\n",
    "\n",
    "def vigenereDecrypt(key, message, symbolList = 'ABCDEFGHIJKLMNOPQRSTUVWXYZ'):\n",
    "    \"\"\"Return the plaintext of message encrypted using the Vigenere \n",
    "    cipher with key. Default symbolList is A-Z\"\"\"\n",
    "    return vigenereCipher(key, message, 'decrypt', symbolList)\n",
    "\n",
    "\n",
    "def vigenereCipher(key, message, mode, symbolList):\n",
    "    translated = [] # Stores the encrypted/decrypted message string.\n",
    "    \n",
    "    # Every possible symbol that can be encrypted:\n",
    "    LETTERS = symbolList\n",
    "    \n",
    "    keyIndex = 0\n",
    "    key = key.upper()\n",
    "\n",
    "    for symbol in message: # Loop through each symbol in message.\n",
    "        num = LETTERS.find(symbol)\n",
    "        if num != -1: # -1 means symbol not found in LETTERS.\n",
    "            if mode == 'encrypt':\n",
    "                num += LETTERS.find(key[keyIndex]) # Add if encrypting.\n",
    "            elif mode == 'decrypt':\n",
    "                num -= LETTERS.find(key[keyIndex]) # Subtract if decrypting.\n",
    "\n",
    "            num %= len(LETTERS) # Handle any wraparound.\n",
    "\n",
    "            # Add the encrypted/decrypted symbol to the end of translated:\n",
    "            translated.append(LETTERS[num])\n",
    "\n",
    "            keyIndex += 1 # Move to the next letter in the key.\n",
    "            if keyIndex == len(key):\n",
    "                keyIndex = 0\n",
    "        else:\n",
    "            # Append the symbol without encrypting/decrypting.\n",
    "            translated.append(symbol)\n",
    "\n",
    "    return ''.join(translated)"
   ]
  },
  {
   "cell_type": "code",
   "execution_count": 23,
   "id": "67724c9f-d8d5-4eb1-b398-166f06ba4b60",
   "metadata": {},
   "outputs": [
    {
     "name": "stdout",
     "output_type": "stream",
     "text": [
      "Key: CAMP\n",
      "message text:\n",
      "THIS IS MY SECRET MESSAGE I WILL ADD A FEW MORE \n",
      "WORDS TO MAKE IT A BIT LONGER\n",
      "Encrypted text:\n",
      "VHUH KS YN UEOGGT YTUSMVG I IXNL MSF A RTY MAGG \n",
      "WAGFS FD OAWT KT M QKT XDPGQG\n"
     ]
    }
   ],
   "source": [
    "# Example:\n",
    "myMessage = \"\"\"THIS IS MY SECRET MESSAGE I WILL ADD A FEW MORE \n",
    "WORDS TO MAKE IT A BIT LONGER\"\"\"\n",
    "myKey = 'CAMP'\n",
    "\n",
    "translated = vigenereEncrypt(myKey, myMessage)\n",
    "\n",
    "print('Key: %s' % (myKey))\n",
    "print('message text:')\n",
    "print(myMessage) \n",
    "print('Encrypted text:')\n",
    "print(translated)"
   ]
  },
  {
   "cell_type": "markdown",
   "id": "4b3754c7-66de-4a44-937f-b715b13eefed",
   "metadata": {},
   "source": [
    "## Some Tools for Cryptanalysis\n",
    "\n",
    "### Frequency Analysis Tools\n",
    "\n",
    "Determining how many times each letter appears in a given chunk of text is an important hacking tool.  \n",
    "Here we define a function `getLetterCount` which does nothing more than count the occurrence of each letter in a given string.\n",
    "\n",
    "We also implement another function, `plotLetterCounts`, which draws a bar graph of this frequency count.\n"
   ]
  },
  {
   "cell_type": "code",
   "execution_count": 24,
   "id": "405f8816-388d-4f75-92d4-a3dd94558cd1",
   "metadata": {},
   "outputs": [],
   "source": [
    "def getLetterCounts(message):\n",
    "    # Returns a dictionary with keys of single letters and values of\n",
    "    # the count of how many times they appear in the message \n",
    "    # parameter:\n",
    "    LETTERS = 'ABCDEFGHIJKLMNOPQRSTUVWXYZ'\n",
    "    letterCount = {'A': 0, 'B': 0, 'C': 0, 'D': 0, 'E': 0, 'F': 0, 'G': 0, 'H': 0, 'I': 0, 'J': 0, 'K': 0, 'L': 0, 'M': 0, 'N': 0, 'O': 0, 'P': 0, 'Q': 0, 'R': 0, 'S': 0, 'T': 0, 'U': 0, 'V': 0, 'W': 0, 'X': 0, 'Y': 0, 'Z': 0}\n",
    "\n",
    "    for letter in message.upper():\n",
    "        if letter in LETTERS:\n",
    "            letterCount[letter] += 1\n",
    "\n",
    "    return letterCount\n",
    "\n",
    "# we import a few libraries to help with plotting\n",
    "import numpy as np\n",
    "import matplotlib.pyplot as plt\n",
    "\n",
    "def plotLetterCounts(letterCounts):\n",
    "    # input: use the output from 'getLetterCounts'\n",
    "    # Returns a bar plot of the frequency of the letters\n",
    "    letterCountsKeys = [letter for letter in letterCounts]\n",
    "    letterCountsValues = [letterCounts[letter] for letter in \n",
    "                                                 letterCountsKeys]\n",
    "    x_pos = np.arange(len(letterCountsKeys))\n",
    "    \n",
    "    plt.bar(x_pos,letterCountsValues,align='center',alpha=0.75)\n",
    "    plt.xticks(x_pos,letterCountsKeys)\n",
    "    plt.ylabel('Frequency')\n",
    "    plt.xlabel('Letters')\n",
    "    plt.title('Letter Frequency in String of Text')\n",
    "    plt.show()"
   ]
  },
  {
   "cell_type": "code",
   "execution_count": 25,
   "id": "dc993ece-ab39-4e1d-bdf0-7d3f54cef86c",
   "metadata": {},
   "outputs": [
    {
     "name": "stdout",
     "output_type": "stream",
     "text": [
      "{'A': 12, 'B': 1, 'C': 5, 'D': 1, 'E': 3, 'F': 0, 'G': 2, 'H': 3, 'I': 10, 'J': 0, 'K': 0, 'L': 3, 'M': 4, 'N': 8, 'O': 3, 'P': 2, 'Q': 0, 'R': 4, 'S': 6, 'T': 10, 'U': 2, 'V': 0, 'W': 1, 'X': 0, 'Y': 2, 'Z': 0}\n"
     ]
    },
    {
     "data": {
      "image/png": "[encoded data removed]",
      "text/plain": [
       "<Figure size 640x480 with 1 Axes>"
      ]
     },
     "metadata": {},
     "output_type": "display_data"
    }
   ],
   "source": [
    "# Example 1:\n",
    "message = \"\"\"Alan Mathison Turing was a British mathematician, \n",
    "logician, cryptanalyst, and computer scientist. \"\"\"\n",
    "\n",
    "letterCounts = getLetterCounts(message)\n",
    "print(letterCounts)\n",
    "plotLetterCounts(letterCounts)"
   ]
  },
  {
   "cell_type": "markdown",
   "id": "e0c8342e-08dd-46ca-a3ae-d4b09bb81a09",
   "metadata": {},
   "source": [
    "### Vigenère Cryptanalysis Tools\n",
    "\n",
    "#### Kasiski Examination\n",
    "\n",
    "Text that was encrypted using the Vigenère cipher may seem like it should be difficult to crack.  \n",
    "After all, if we don't know the length of the key, then we don't know which characters were encoded using the same shift.  \n",
    "However, by considering \"words\" of length 3 or more that appear in multiple places in the ciphertext, it is likely that they came from the same words in the plaintext and just happened to have been encoded in the same way — that is, the spacing between them coincidentally matched the length of the key. This is something we can exploit.\n",
    "\n",
    "The `findRepeatSequencesSpacings()` function below analyzes the message text and returns all repeated sequences of length 3 to 5 characters along with how far apart they are in the message. It is quite likely that the key has a length which divides all these values.\n",
    "\n",
    "In other words, the *key* to unlocking the key length is the **gcd**.\n"
   ]
  },
  {
   "cell_type": "code",
   "execution_count": 27,
   "id": "6f15a099-848b-40a2-909d-53656d40cc5d",
   "metadata": {},
   "outputs": [],
   "source": [
    "import re   # use regular expressions to do a bit of magic on line 3 and 11\n",
    "\n",
    "NONLETTERS_PATTERN = re.compile('[^A-Z]')\n",
    "\n",
    "def findRepeatSequencesSpacings(message):\n",
    "    # Goes through the message and finds any length 3 to 5 letter sequences\n",
    "    # that are repeated. Returns a dictionary with the keys of the sequence and\n",
    "    # values of a list of spacings (num of letters between the repeats).\n",
    "\n",
    "    # Use a regular expression to remove non-letters from the message:\n",
    "    message = NONLETTERS_PATTERN.sub('', message.upper())\n",
    "\n",
    "    # Compile a list of seqLen-letter sequences found in the message:\n",
    "    seqSpacings = {} # Keys are sequences, values are lists of int spacings.\n",
    "    for seqLen in range(3, 6):\n",
    "        for seqStart in range(len(message) - seqLen):\n",
    "            # Determine what the sequence is, and store it in seq:\n",
    "            seq = message[seqStart:seqStart + seqLen]\n",
    "\n",
    "            # Look for this sequence in the rest of the message:\n",
    "            for i in range(seqStart + seqLen, len(message) - seqLen):\n",
    "                if message[i:i + seqLen] == seq:\n",
    "                    # Found a repeated sequence.\n",
    "                    if seq not in seqSpacings:\n",
    "                        seqSpacings[seq] = [] # Initialize a blank list.\n",
    "\n",
    "                    # Append the spacing distance between the repeated\n",
    "                    # sequence and the original sequence:\n",
    "                    seqSpacings[seq].append(i - seqStart)\n",
    "    return seqSpacings"
   ]
  },
  {
   "cell_type": "markdown",
   "id": "125abe81-7f77-4eb1-8993-a5e57c42f4b7",
   "metadata": {},
   "source": [
    "If you are wondering what the line `NONLETTERS_PATTERN.sub('', message.upper())` does, it does a little bit of magic where it takes the string `message' and strips away any characters that aren't letters.  Check it out..."
   ]
  },
  {
   "cell_type": "code",
   "execution_count": 30,
   "id": "1d0e8b42-c863-4276-b312-17a0b9a89f04",
   "metadata": {},
   "outputs": [
    {
     "data": {
      "text/plain": [
       "'HEREISASTRINGWITHOTHERCHARACTERS'"
      ]
     },
     "execution_count": 30,
     "metadata": {},
     "output_type": "execute_result"
    }
   ],
   "source": [
    "message = \"here,, is a string 1234 with???  other characters..\"\n",
    "NONLETTERS_PATTERN.sub('', message.upper())"
   ]
  },
  {
   "cell_type": "markdown",
   "id": "c820578e-6313-4210-9ce1-92f9d19f56c3",
   "metadata": {},
   "source": [
    "### Example\n",
    "\n",
    "In this example we demonstrate what `findRepeatSequencesSpacings()` does. Consider the ciphertext:\n",
    "\n",
    "    CHREEVOAHMAERATBIAXXWTNXBEEOPHBSBQMQEQERBWRVXUOAKXAOSXXWEAHB\n",
    "    WGJMMQMNKGRFVGXWTRZXWIAKLXFPSKAUTEMNDCMGTSXMXBTUIADNGMGPSREL\n",
    "    XNJELXVRVPRTULHDNQWTWDTYGBPHXTFALJHASVBFXNGLLCHRZBWELEKMSJIK\n",
    "    NBHWRJGNMGJSGLXFEYPHAGNRBIEQJTAMRVLCRREMNDGLXRRIMGNSNRWCHRQH\n",
    "    AEYEVTAQEBBIPEEWEVKAKOEWADREMXMTBHHCHRTKDNVRZCHRCLQOHPWQAIIW\n",
    "    XNRMGWOIIFKEE\n",
    "\n",
    "Let's find all repeated occurrences of strings of length 3 to 5, and report back the distance between successive occurrences of the strings. "
   ]
  },
  {
   "cell_type": "code",
   "execution_count": 42,
   "id": "3319237e-3276-4070-a6e7-33672c96ed25",
   "metadata": {},
   "outputs": [
    {
     "data": {
      "text/plain": [
       "{'CHR': [165, 235, 275, 285, 70, 110, 120, 40, 50, 10],\n",
       " 'XXW': [35],\n",
       " 'XWT': [55],\n",
       " 'LXF': [109],\n",
       " 'EMN': [125],\n",
       " 'MND': [125],\n",
       " 'ELX': [5],\n",
       " 'GLX': [30],\n",
       " 'REM': [49],\n",
       " 'EMND': [125]}"
      ]
     },
     "execution_count": 42,
     "metadata": {},
     "output_type": "execute_result"
    }
   ],
   "source": [
    "ciphertext = \"\"\"CHREEVOAHMAERATBIAXXWTNXBEEOPHBSBQMQEQERBWRVXUOAKXAOSXXWEAHBWGJMMQMNKGRFVGXWTRZXWIAKLXFPSKAUTEMNDCMGTSXMXBTUIADNGMGPSRELXNJELXVRVPRTULHDNQWTWDTYGBPHXTFALJHASVBFXNGLLCHRZBWELEKMSJIKNBHWRJGNMGJSGLXFEYPHAGNRBIEQJTAMRVLCRREMNDGLXRRIMGNSNRWCHRQHAEYEVTAQEBBIPEEWEVKAKOEWADREMXMTBHHCHRTKDNVRZCHRCLQOHPWQAIIWXNRMGWOIIFKEE\"\"\"\n",
    "findRepeatSequencesSpacings(ciphertext)"
   ]
  },
  {
   "cell_type": "markdown",
   "id": "1fa7ee32-afed-4349-858f-ed58728ae134",
   "metadata": {},
   "source": [
    "The sequence `CHR' appears frequently in the text, so it is likely it came from the same three letter sequence in plain text. The gcd of the gap sizes is $5$. Therefore, we suspect the key length is $5$."
   ]
  },
  {
   "cell_type": "markdown",
   "id": "0593548b-8284-4c83-bc82-54282607b9eb",
   "metadata": {},
   "source": [
    "#### Index of Coincidence\n",
    "\n",
    "If two randomly selected characters are taken from a block of English text, what is the probability they will be the same character?  \n",
    "(This probability is called the **index of coincidence**.) It turns out that the answer to this question can provide insight into the length of the key for text encrypted with the Vigenère cipher.\n",
    "\n",
    "The probability that two randomly selected characters are the same is about 0.065 (or 6.5%). How can we use this fact?\n",
    "\n",
    "First, let's create the incidence of coincidence function in Python.\n"
   ]
  },
  {
   "cell_type": "code",
   "execution_count": 43,
   "id": "830ea7e5-bbef-4221-acdc-99ce0eb525ef",
   "metadata": {},
   "outputs": [],
   "source": [
    "# Index of Coincidence\n",
    "# WARNING: requires `getLetterCount` function to be executed (defined above)\n",
    "\n",
    "def indexOfCoincidenceSingle(message):\n",
    "    \"\"\"Takes as input a string, returns the index of coincidence - the probability that \n",
    "    two randomly selected characters of the string are the same\"\"\"\n",
    "    letterCounts = getLetterCounts(message)\n",
    "    N=len(message)\n",
    "    ioc = sum([letterCounts[letter]*(letterCounts[letter]-1) for letter in letterCounts.keys()])\n",
    "    return round(ioc/(N*(N-1)),4)\n",
    "\n",
    "def indexOfCoincidence(message,m):\n",
    "    \"\"\"Takes as input a string, and a positive integer m. The message string is \n",
    "    split into m substrings:  by writing the message in columns of m characters \n",
    "    and taking the rows as substrings. \n",
    "    Returns the index of coincidence for the string corresponding to each row\"\"\"\n",
    "    messages = ['']*m\n",
    "    currentIndex = 0\n",
    "    for i in range(len(message)):\n",
    "        messages[i%m] += message[i]\n",
    "    return list(map(indexOfCoincidenceSingle,messages))"
   ]
  },
  {
   "cell_type": "markdown",
   "id": "1527fc75-80f0-48bc-9cba-15ef12eb877f",
   "metadata": {},
   "source": [
    "### Example (continued)\n",
    "\n",
    "Consider the same ciphertext as above. We loop over key lengths k from 2 through 6\n",
    "and for each one check the index of coincidence for the k substrings.\n"
   ]
  },
  {
   "cell_type": "code",
   "execution_count": 41,
   "id": "7298e745-1692-409d-83b3-53f7b93b4fd4",
   "metadata": {},
   "outputs": [
    {
     "name": "stdout",
     "output_type": "stream",
     "text": [
      "key length = 2, index of coincidence = [0.0456, 0.041]\n",
      "key length = 3, index of coincidence = [0.0432, 0.0497, 0.0471]\n",
      "key length = 4, index of coincidence = [0.0422, 0.039, 0.0453, 0.0403]\n",
      "key length = 5, index of coincidence = [0.063, 0.0681, 0.0686, 0.0608, 0.0724]\n",
      "key length = 6, index of coincidence = [0.0443, 0.0437, 0.0475, 0.0415, 0.049, 0.037]\n"
     ]
    }
   ],
   "source": [
    "# Example\n",
    "message = '''CHREEVOAHMAERATBIAXXWTNXBEEOPHBSBQMQEQERBWRVXUOAKXAOSXXWEAHBWGJMMQMNKGRFVGXWTRZXWIAKLXFPSKAUTEMNDCMGTSXMXBTUIADNGMGPSRELXNJELXVRVPRTULHDNQWTWDTYGBPHXTFALJHASVBFXNGLLCHRZBWELEKMSJIKNBHWRJGNMGJSGLXFEYPHAGNRBIEQJTAMRVLCRREMNDGLXRRIMGNSNRWCHRQHAEYEVTAQEBBIPEEWEVKAKOEWADREMXMTBHHCHRTKDNVRZCHRCLQOHPWQAIIWXNRMGWOIIFKEE'''\n",
    "for k in range(2,7):\n",
    "    print('key length = {0}, index of coincidence = {1}'.format(k,indexOfCoincidence(message,k)))"
   ]
  },
  {
   "cell_type": "markdown",
   "id": "0fd3f9ec-fa1d-4fa0-b70f-da2306a0225b",
   "metadata": {},
   "source": [
    "Substrings corresponding to key length $5$ have an index of coincidence that \n",
    "is in line with the english language. Therefore, we suspect the key length is 5."
   ]
  },
  {
   "cell_type": "markdown",
   "id": "547199b4-6033-411a-b250-69111e82f474",
   "metadata": {},
   "source": [
    "Let's dive in a bit deeper and figure out what is actually going on.  \n",
    "Consider the text:\n",
    "\n",
    ">Puzzles are made of the things that the mathematician, no less than the child, plays with, and dreams and wonders about, for they are made of the things and circumstances of the world he or she lives in.\n",
    "\n",
    "We'll convert it to lowercase and strip away everything but the letters:\n",
    "\n",
    ">puzzlesaremadeofthethingsthatthemathematiciannolessthanthechildplayswithanddreamsandwondersaboutfortheyaremadeofthethingsandcircumstancesoftheworldheorshelivesin\n",
    "\n",
    "If we were to select any two positions in the text, the probability that the characters at those positions are the same (*index of coincidence*) should be around 0.065.\n",
    "\n",
    "Moreover, if we split up the string into substrings by going through the string from left to right and subsequently dropping each letter into a substring as you would deal out a deck of cards:\n",
    "\n",
    ">substring1: p l r d t ...  \n",
    ">substring2: u e e e h ...  \n",
    ">substring3: z s m o e ...  \n",
    ">substring4: z a a f t ...\n",
    "\n",
    "then for each of these substrings we must also have an index of coincidence of approximately 0.065.\n",
    "\n",
    "If we encrypt this text using the Vigenère cipher, then each substring that was encrypted using the same \"shift\" would also have this same index of coincidence. On the other hand, mixing together letters encrypted using different shifts would not have this same index of coincidence.\n",
    "\n",
    "This is why in the example above we suspected the key length was 5, because the index of coincidence of each substring in that case was about 0.065.\n"
   ]
  },
  {
   "cell_type": "markdown",
   "id": "9f976104-c357-42da-8a34-2f384db91d18",
   "metadata": {},
   "source": [
    "## Exercises\n",
    "\n",
    "In each of the following exercises assume the symbol list is:\n",
    "\n",
    "`SYMBOLS = 'ABCDEFGHIJKLMNOPQRSTUVWXYZ'`"
   ]
  },
  {
   "cell_type": "markdown",
   "id": "54b19d26-49f0-46cd-b0ae-d23db1e1a561",
   "metadata": {},
   "source": [
    "1. Encrypt the following message using each of the ciphers and the keys given. Use symbol list:\n",
    "\n",
    "> EVERYONE KNOWS THAT IT IS EASY TO DO A PUZZLE IF SOMEONE HAS TOLD YOU THE ANSWER. THAT IS SIMPLY A TEST OF MEMORY. YOU CAN CLAIM TO BE A MATHEMATICIAN ONLY IF YOU CAN SOLVE PUZZLES THAT YOU HAVE NEVER STUDIED BEFORE. THAT IS A TEST OF REASONING.\n",
    "\n",
    "(a) Shift cipher, with key $13$. <br />\n",
    "(b) Affine cipher, with key $(25,2)$. <br />\n",
    "(c) Vigenère Cipher, with key `WATER`. <br />"
   ]
  },
  {
   "cell_type": "code",
   "execution_count": 63,
   "id": "551abc52-3a62-48ec-aaac-9ed0d73c6d8f",
   "metadata": {},
   "outputs": [],
   "source": [
    "# put your code here\n",
    "plaintext = \"\"\"EVERYONE KNOWS THAT IT IS EASY TO DO A PUZZLE IF SOMEONE HAS TOLD YOU THE ANSWER. THAT IS SIMPLY A TEST OF MEMORY. YOU CAN CLAIM TO BE A MATHEMATICIAN ONLY IF YOU CAN SOLVE PUZZLES THAT YOU HAVE NEVER STUDIED BEFORE. THAT IS A TEST OF REASONING.\"\"\"\n"
   ]
  },
  {
   "cell_type": "markdown",
   "id": "a89e2bd7-3a8d-4867-8822-a3791c95d2d8",
   "metadata": {},
   "source": [
    "2. A message was encrypted using the Shift cipher and produced the following text:\n",
    "\n",
    "> KLGJAWK GX AESYAFSLAGF LWFV LG MHKWL LZGKW OALZGML GFW.\n",
    "\n",
    "Determine the original message by doing a brute-force search through all the keys."
   ]
  },
  {
   "cell_type": "code",
   "execution_count": 62,
   "id": "940dfc0b-3cc8-4d38-9b5c-76bdb7702662",
   "metadata": {},
   "outputs": [],
   "source": [
    "# put your code here\n",
    "ciphertext = \"\"\"KLGJAWK GX AESYAFSLAGF LWFV LG MHKWL LZGKW OALZGML GFW.\"\"\"\n"
   ]
  },
  {
   "cell_type": "markdown",
   "id": "d6cb39be-ba5c-48f5-ac82-715ba1ca9645",
   "metadata": {},
   "source": [
    "3. A message was encrypted using the Affine cipher and produced the following text:\n",
    "\n",
    "> AKXQ W EWJ W VKDQ WJL FQ KI CWDE VOD W LWM, BSN IQN VKDQ NO FKE WJL FQ KI CWDE VOD NFQ DQIN OV FKI ZKVQ.\n",
    "\n",
    "Determine the original message by doing a brute-force search through all the keys.\n"
   ]
  },
  {
   "cell_type": "code",
   "execution_count": 61,
   "id": "02bb152d-a92f-426c-bdfc-0d8a2d30d2e9",
   "metadata": {},
   "outputs": [],
   "source": [
    "# put your code here\n",
    "ciphertext = \"\"\"AKXQ W EWJ W VKDQ WJL FQ KI CWDE VOD W LWM, BSN IQN VKDQ NO FKE WJL FQ KI CWDE VOD NFQ DQIN OV FKI ZKVQ.\"\"\"\n"
   ]
  },
  {
   "cell_type": "markdown",
   "id": "758cab27-d9d8-4179-915f-a48a66ff0a4c",
   "metadata": {},
   "source": [
    "4. A message was encrypted using the Vigen\\`{e}re Cipher cipher, with a key of length $2$, and produced the following text:\n",
    "> OCY ICEF YKX EESCHSCXG, VCYY PCB MYIB CGB OLKAZZOG, NWCQYJOF ICEF YKX DBCYTC.\n",
    "\n",
    "Determine the original message by doing a brute-force search through all the keys."
   ]
  },
  {
   "cell_type": "code",
   "execution_count": 57,
   "id": "ae362306-986f-482d-9606-1fdf4ad6e6aa",
   "metadata": {},
   "outputs": [],
   "source": [
    "# put your code here\n",
    "ciphertext = \"\"\"OCY ICEF YKX EESCHSCXG, VCYY PCB MYIB CGB OLKAZZOG, NWCQYJOF ICEF YKX DBCYTC.\"\"\""
   ]
  },
  {
   "cell_type": "code",
   "execution_count": 60,
   "id": "5f749da4-944b-4188-8641-005acaabfbdf",
   "metadata": {},
   "outputs": [],
   "source": [
    "SYMBOLS = 'ABCDEFGHIJKLMNOPQRSTUVWXYZ'\n"
   ]
  },
  {
   "cell_type": "code",
   "execution_count": null,
   "id": "adceae1e-53d5-4939-8ece-631171e85342",
   "metadata": {},
   "outputs": [],
   "source": []
  }
 ],
 "metadata": {
  "kernelspec": {
   "display_name": "Python 3 (ipykernel)",
   "language": "python",
   "name": "python3"
  },
  "language_info": {
   "codemirror_mode": {
    "name": "ipython",
    "version": 3
   },
   "file_extension": ".py",
   "mimetype": "text/x-python",
   "name": "python",
   "nbconvert_exporter": "python",
   "pygments_lexer": "ipython3",
   "version": "3.12.10"
  }
 },
 "nbformat": 4,
 "nbformat_minor": 5
}
