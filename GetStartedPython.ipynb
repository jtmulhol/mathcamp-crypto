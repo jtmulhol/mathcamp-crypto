{
 "cells": [
  {
   "cell_type": "markdown",
   "id": "ff837aba-d6b1-4d2c-9fa4-9d5b6fc20c22",
   "metadata": {},
   "source": [
    "# Math Camp 2025\n",
    "SFU Math Camp (Burnaby)  \n",
    "June 23-27, 2025\n",
    "\n",
    "This python notebook follows alongside the booklet *Cryptography: A Short Course for Math Camp*.\n",
    "\n",
    "#### Table of Contents:\n",
    "<a id='toc'></a>\n",
    "[Chapter 1: Introduction to Cryptography](#chap1)\n",
    "* [Section 1.3: The Shift Cipher](#sec1-3)\n",
    "* [Section 1.4: The Substitution Cipher](#sec1-4)\n",
    "* [Section 1.5: The Transposition Cipher](#sec1-5)\n",
    "\n",
    "[Chapter 2: Number Theory](#chap2)\n",
    "\n",
    "[Chapter 3: Affine Cipher](#chap3)\n",
    "\n",
    "[Chapter 4: Vigenere Cipher](#chap4)\n",
    "\n",
    "[Appendix B: Tools for Frequency Analysis](#cryptanalysis)"
   ]
  },
  {
   "cell_type": "code",
   "execution_count": 4,
   "id": "2cf6cca8-1d70-4dd0-b5e5-152535554a5f",
   "metadata": {},
   "outputs": [],
   "source": [
    "from crypto import *"
   ]
  },
  {
   "cell_type": "markdown",
   "id": "f9022f00-770c-482e-b0bf-1a0f987b0043",
   "metadata": {},
   "source": [
    "## Chapter 1: Introduction to Cryptography\n",
    "<a id='chap1'></a>\n",
    "\n",
    "In this python notebook we explore the various ciphers we will be considering. This will give you an opportunity to play with the encryption and decryption process."
   ]
  },
  {
   "cell_type": "markdown",
   "id": "aefc0557-c5fc-485f-bf71-2438d1222ac1",
   "metadata": {},
   "source": [
    "### Remainder Operator `%` in Python:\n",
    "\n",
    "`m % n` returns the remainder of $m$ when divided by $n$. This is an integer $0\\le r \\le n-1$  such that $m = qn + r$."
   ]
  },
  {
   "cell_type": "code",
   "execution_count": 5,
   "id": "13bac32d-1ed1-4372-87b9-3ba8efb06f7d",
   "metadata": {},
   "outputs": [
    {
     "data": {
      "text/plain": [
       "6"
      ]
     },
     "execution_count": 5,
     "metadata": {},
     "output_type": "execute_result"
    }
   ],
   "source": [
    "32 % 26"
   ]
  },
  {
   "cell_type": "code",
   "execution_count": 6,
   "id": "fba1bc7c-e5aa-4af8-b810-15f13cfa8071",
   "metadata": {},
   "outputs": [
    {
     "data": {
      "text/plain": [
       "9"
      ]
     },
     "execution_count": 6,
     "metadata": {},
     "output_type": "execute_result"
    }
   ],
   "source": [
    "-5 % 14"
   ]
  },
  {
   "cell_type": "markdown",
   "id": "4b492458-b019-414c-9f11-8badc2c3b868",
   "metadata": {},
   "source": [
    "[back to Table of Contents](#toc)"
   ]
  },
  {
   "cell_type": "markdown",
   "id": "0814133c-b30c-41e7-8afb-558a68aa9783",
   "metadata": {},
   "source": [
    "### Section 1.3: The Shift Cipher\n",
    "<a id='sec1-3'></a>"
   ]
  },
  {
   "cell_type": "markdown",
   "id": "9829e89f-1b84-43dd-9b1d-e429c894b1d7",
   "metadata": {},
   "source": [
    "First start with a string of symbols that are to be encoded. Anything not included here will remain unchanged in the ciphertext.\n",
    "By default the list of symbols is \n",
    "\n",
    "    SYMBOLS = 'ABCDEFGHIJKLMNOPQRSTUVWXYZ'\n",
    "\n",
    "We define two functions: `shiftEncrypt` and `shiftDecrypt`. Both functions take as input: \n",
    "1. `key` - the encryption key for how much each symbol should be shifted to the right along the symbolList\n",
    "2. `message` - a message to be encrypted/decrypted,  \n",
    "3. `symbolList` - an (ordered) string of symbols (default `SYMBOLS = 'ABCDEFGHIJKLMNOPQRSTUVWXYZ'`),"
   ]
  },
  {
   "cell_type": "markdown",
   "id": "bdc17205-615a-4cbf-96d0-f798a3d90844",
   "metadata": {},
   "source": [
    "**Example: Shift Cipher**"
   ]
  },
  {
   "cell_type": "code",
   "execution_count": 7,
   "id": "0fb33af7-3288-4a6f-9ea2-89fcf01b0645",
   "metadata": {},
   "outputs": [
    {
     "name": "stdout",
     "output_type": "stream",
     "text": [
      "ESTD TD XJ DPNCPE XPDDLRP\n",
      "THIS IS MY SECRET MESSAGE\n"
     ]
    }
   ],
   "source": [
    "# Example 1:\n",
    "SYMBOLS = 'ABCDEFGHIJKLMNOPQRSTUVWXYZ'  # this is the default alphabet for shift cipher\n",
    "message = 'THIS IS MY SECRET MESSAGE'\n",
    "key = 11    # shift characters 11 places to the right in SYMBOLS list.\n",
    "\n",
    "# encrypt plain text message\n",
    "translated = shiftEncrypt(key,message,SYMBOLS)\n",
    "print(translated)\n",
    "\n",
    "# decrypt cipher text\n",
    "print(shiftDecrypt(key,translated,SYMBOLS))"
   ]
  },
  {
   "cell_type": "markdown",
   "id": "8ca489d1-1786-42ca-b594-e0cdaf54ec43",
   "metadata": {},
   "source": [
    "Now that we have the computer do all the work of encrypting/decrypting we can increase the size of the symbols list to include both upper and lower case letter, digits, spaces, and punctuation. As the next example shows, this makes the cipher text look even more cryptic!"
   ]
  },
  {
   "cell_type": "code",
   "execution_count": 8,
   "id": "70c0f658-b69a-4f24-a3ee-c28fb5d9d307",
   "metadata": {},
   "outputs": [
    {
     "name": "stdout",
     "output_type": "stream",
     "text": [
      "est4Ht4Hx0H4pn3p5Hxp44lrp\n",
      "This is my secret message\n"
     ]
    }
   ],
   "source": [
    "# Example 2:\n",
    "SYMBOLS = 'ABCDEFGHIJKLMNOPQRSTUVWXYZabcdefghijklmnopqrstuvwxyz1234567890 !?.'\n",
    "\n",
    "message = 'This is my secret message'\n",
    "key = 11    # shift characters 11 places to the right in SYMBOLS list.\n",
    "\n",
    "# encrypt plain text message\n",
    "translated = shiftEncrypt(key,message,SYMBOLS)\n",
    "print(translated)\n",
    "\n",
    "# decrypt cipher text\n",
    "print(shiftDecrypt(key,translated,SYMBOLS))"
   ]
  },
  {
   "cell_type": "code",
   "execution_count": null,
   "id": "9b44fd6f-6cb8-4737-9cae-75090c89fbdb",
   "metadata": {},
   "outputs": [],
   "source": []
  },
  {
   "cell_type": "markdown",
   "id": "11c644b5-9473-40f3-acc2-da866fd38d00",
   "metadata": {},
   "source": [
    "[back to Table of Contents](#toc)"
   ]
  },
  {
   "cell_type": "markdown",
   "id": "91c29969-f264-497b-85f0-19169510483a",
   "metadata": {},
   "source": [
    "### Section 1.4: Substitution Cipher\n",
    "<a id='sec1-4'></a>\n",
    "\n",
    "First start with a string of symbols that are to be encoded. Anything not included here will remain unchanged in the ciphertext.\n",
    "By default the list of symbols is \n",
    "\n",
    "    SYMBOLS = 'ABCDEFGHIJKLMNOPQRSTUVWXYZ'\n",
    "\n",
    "We have two functions: `substitutionEncrypt` and `substitutionDecrypt`, both take as input: \n",
    "1. `key` - the encryption key for how the original set of `SYMBOLS` will be permuted (this can be generated by `getRandomKey(SYMBOLS)`)\n",
    "1. `message` - a message to be encrypted/decrypted,  \n",
    "1. `symbolList` - an (ordered) string of symbols (default `SYMBOLS = 'ABCDEFGHIJKLMNOPQRSTUVWXYZ'`),"
   ]
  },
  {
   "cell_type": "markdown",
   "id": "9a189797-72b7-45ab-8e3a-6104188b2179",
   "metadata": {},
   "source": [
    "**Example: Substitution Cipher**"
   ]
  },
  {
   "cell_type": "code",
   "execution_count": 9,
   "id": "88d928ad-aa02-474e-8664-9c591a8fc315",
   "metadata": {},
   "outputs": [
    {
     "name": "stdout",
     "output_type": "stream",
     "text": [
      "Using key: FRGQBWEAOJCMNZISVPTKDUHLXY\n",
      "The encrypted message is: KAOT OT F TBGPBK NBTTFEB.\n"
     ]
    }
   ],
   "source": [
    "SYMBOLS = 'ABCDEFGHIJKLMNOPQRSTUVWXYZ'\n",
    "\n",
    "key = getRandomKey(SYMBOLS)\n",
    "mode = 'encrypt' # Set to 'encrypt' or 'decrypt'.\n",
    "message = 'THIS IS A SECRET MESSAGE.'\n",
    "ciphertext = substitutionEncrypt(key,message,SYMBOLS)\n",
    "print('Using key: {0}'.format(key))\n",
    "print('The encrypted message is: {0}'.format(ciphertext))"
   ]
  },
  {
   "cell_type": "code",
   "execution_count": 10,
   "id": "9b6809ef-364f-4d1c-9d3c-14bc04494515",
   "metadata": {},
   "outputs": [
    {
     "data": {
      "text/plain": [
       "'THIS IS A SECRET MESSAGE.'"
      ]
     },
     "execution_count": 10,
     "metadata": {},
     "output_type": "execute_result"
    }
   ],
   "source": [
    "substitutionDecrypt(key,ciphertext,SYMBOLS)"
   ]
  },
  {
   "cell_type": "markdown",
   "id": "9340c32d-df69-4664-a51b-b4955b254455",
   "metadata": {},
   "source": [
    "The list of symbols can be extended to include upper and lower case, and punctuation."
   ]
  },
  {
   "cell_type": "code",
   "execution_count": 11,
   "id": "3c94d526-e3b0-4186-bac3-12916facc136",
   "metadata": {},
   "outputs": [
    {
     "name": "stdout",
     "output_type": "stream",
     "text": [
      "Using key: flNYTJZ7SpGgn!16Ihyes3LH8k?FW Q.tDKRBcoCqVmv9jAEwb4xaUPizduXO52r0M\n",
      "The encrypted message is: e7Sy2Sy2f2yTNhTe2nTyyfZTM\n"
     ]
    }
   ],
   "source": [
    "SYMBOLS = 'ABCDEFGHIJKLMNOPQRSTUVWXYZabcdefghijklmnopqrstuvwxyz1234567890 !?.'\n",
    "\n",
    "key = getRandomKey(SYMBOLS)\n",
    "mode = 'encrypt' # Set to 'encrypt' or 'decrypt'.\n",
    "message = 'THIS IS A SECRET MESSAGE.'\n",
    "ciphertext = substitutionEncrypt(key,message,SYMBOLS)\n",
    "print('Using key: {0}'.format(key))\n",
    "print('The encrypted message is: {0}'.format(ciphertext))"
   ]
  },
  {
   "cell_type": "code",
   "execution_count": 12,
   "id": "f90addee-0924-4bf3-9e4a-db3d9e8c062d",
   "metadata": {},
   "outputs": [
    {
     "data": {
      "text/plain": [
       "'THIS IS A SECRET MESSAGE.'"
      ]
     },
     "execution_count": 12,
     "metadata": {},
     "output_type": "execute_result"
    }
   ],
   "source": [
    "substitutionDecrypt(key,ciphertext,SYMBOLS)"
   ]
  },
  {
   "cell_type": "code",
   "execution_count": 13,
   "id": "dfc0ab8c-3889-442a-b2c4-5ad9e3de9725",
   "metadata": {},
   "outputs": [
    {
     "data": {
      "text/plain": [
       "'THISCIPHERTEXTCANNOTBEDECRYPTED'"
      ]
     },
     "execution_count": 13,
     "metadata": {},
     "output_type": "execute_result"
    }
   ],
   "source": [
    "#Example 1.8 from notes booklet:\n",
    "key = 'XNYAHPOGZQWBTSFLRCVMUEKJDI'\n",
    "ciphertext = 'MGZVYZLGHCMHJMYXSSFMNHAHYCDLMHA'\n",
    "substitutionDecrypt(key,ciphertext)"
   ]
  },
  {
   "cell_type": "code",
   "execution_count": null,
   "id": "c498b582-c22f-41cf-a185-758cb8c097df",
   "metadata": {},
   "outputs": [],
   "source": []
  },
  {
   "cell_type": "code",
   "execution_count": null,
   "id": "2c980f4a-7797-4cc3-911c-8c4d7883a7fa",
   "metadata": {},
   "outputs": [],
   "source": []
  },
  {
   "cell_type": "markdown",
   "id": "703a898f-9c66-481a-a36b-ee304ba3b111",
   "metadata": {},
   "source": [
    "[back to Table of Contents](#toc)"
   ]
  },
  {
   "cell_type": "markdown",
   "id": "923f7fb3-4483-42b5-bd5e-e617a47e61dc",
   "metadata": {},
   "source": [
    "### Section 1.5: Transposition Cipher\n",
    "<a id='sec1-5'></a>\n",
    "\n",
    "We define two functions: `transpositionEncrypt` and `transpositionDecrypt`. Both functions takea as input: \n",
    "1. `key` - the encryption key for how many columns the table will have.\n",
    "2. `message` - a message to be encrypted/decrypted."
   ]
  },
  {
   "cell_type": "markdown",
   "id": "9c69302a-58b4-4fbb-9429-dd534b034f7e",
   "metadata": {},
   "source": [
    "**Example: Transposition Cipher** "
   ]
  },
  {
   "cell_type": "code",
   "execution_count": 14,
   "id": "3afde898-4465-4b68-bdfd-ad91c9c60b88",
   "metadata": {},
   "outputs": [
    {
     "name": "stdout",
     "output_type": "stream",
     "text": [
      "Cenoonommstmme oo snnio. s s c|\n"
     ]
    }
   ],
   "source": [
    "message = 'Common sense is not so common.'\n",
    "key = 8\n",
    "ciphertext = transpositionEncrypt(key, message)\n",
    "print(ciphertext+'|')"
   ]
  },
  {
   "cell_type": "code",
   "execution_count": 15,
   "id": "56e40275-93df-40ec-9030-9402dbde3f54",
   "metadata": {},
   "outputs": [
    {
     "data": {
      "text/plain": [
       "'Common sense is not so common.'"
      ]
     },
     "execution_count": 15,
     "metadata": {},
     "output_type": "execute_result"
    }
   ],
   "source": [
    "transpositionDecrypt(key,ciphertext)"
   ]
  },
  {
   "cell_type": "code",
   "execution_count": 16,
   "id": "c4e47994-6731-429b-acc9-0a1763049e98",
   "metadata": {},
   "outputs": [
    {
     "data": {
      "text/plain": [
       "'te hsla heoe epte nrnsphrw  o.leeiitr e  tto Hstwh.olo ra  kewwesaI f ee p atmr?apnp ae lepan teilpyorstep n'"
      ]
     },
     "execution_count": 16,
     "metadata": {},
     "output_type": "execute_result"
    }
   ],
   "source": [
    "message = 'there was a tree with apples on it. I neither took apples nor left apples. How many apples were on the tree?'\n",
    "key = 14\n",
    "transpositionEncrypt(key, message)"
   ]
  },
  {
   "cell_type": "code",
   "execution_count": 17,
   "id": "d284a2fe-e2d7-4675-9509-9ef209f161ee",
   "metadata": {},
   "outputs": [
    {
     "data": {
      "text/plain": [
       "'TETEUEWSHTRDENEHENOOEITRATSYTKRBPHTEUAORARCFESI'"
      ]
     },
     "execution_count": 17,
     "metadata": {},
     "output_type": "execute_result"
    }
   ],
   "source": [
    "# Example 1.8 from notes\n",
    "message = 'TWENTYPACESNORTHOFTHEOAKTREETHETREASUREISBURIED'\n",
    "key = 9\n",
    "transpositionEncrypt(key,message)"
   ]
  },
  {
   "cell_type": "code",
   "execution_count": 18,
   "id": "80ece88f-ce08-4209-aca5-2804244c74ba",
   "metadata": {},
   "outputs": [
    {
     "data": {
      "text/plain": [
       "'TWENTYPACESNORTHOFTHEOAKTREETHETREASUREISBURIED'"
      ]
     },
     "execution_count": 18,
     "metadata": {},
     "output_type": "execute_result"
    }
   ],
   "source": [
    "transpositionDecrypt(key,'TETEUEWSHTRDENEHENOOEITRATSYTKRBPHTEUAORARCFESI')"
   ]
  },
  {
   "cell_type": "code",
   "execution_count": 19,
   "id": "1cf5df99-8aaf-4ad2-b201-bd89e7edab9b",
   "metadata": {},
   "outputs": [
    {
     "data": {
      "text/plain": [
       "'MATHEMATICAL_SCIENCE_SHOWS_WHAT_IS._IT_IS_THE_LANGUAGE_OF_UNSEEN_RELATIONS_BETWEEN_THINGS._ADA_LOVELACE'"
      ]
     },
     "execution_count": 19,
     "metadata": {},
     "output_type": "execute_result"
    }
   ],
   "source": [
    "# Breakout 1.3 from notes booklet:\n",
    "ciphertext= 'MCHTFIHEAIAH_OILTETEUNNAHN__NSGCECILS_SEMESAEB.A_.NEE_TS_GNTAIHIU_WDCOTAREAAW_GEE_LSIELNL__S_A_OSW_OTTV'\n",
    "transpositionDecrypt(14,ciphertext)"
   ]
  },
  {
   "cell_type": "code",
   "execution_count": null,
   "id": "9ff91b14-866f-42ef-932e-69cea4ac6140",
   "metadata": {},
   "outputs": [],
   "source": []
  },
  {
   "cell_type": "code",
   "execution_count": null,
   "id": "996c1c9f-43dc-4eb6-bd05-ae9ea4c653b8",
   "metadata": {},
   "outputs": [],
   "source": []
  },
  {
   "cell_type": "markdown",
   "id": "6481edfa-492b-4a0a-b3f4-aa630b69cc9a",
   "metadata": {},
   "source": [
    "[back to Table of Contents](#toc)"
   ]
  },
  {
   "cell_type": "markdown",
   "id": "154f3354-1d08-41dd-9765-f0194330f05d",
   "metadata": {},
   "source": [
    "## Chapter 2: Number Theory\n",
    "<a id='chap2'></a>"
   ]
  },
  {
   "cell_type": "markdown",
   "id": "08cea918-b1dd-4b4f-addd-5577c4678f55",
   "metadata": {},
   "source": [
    "The Division Algorithm: `divmod`\n",
    "\n",
    "`divmod(m,n)` returns a tuple $(q,r)$ such that $m=qn+r$ where $0\\le r \\le n-1$."
   ]
  },
  {
   "cell_type": "code",
   "execution_count": 20,
   "id": "602845f5-7190-4e44-a748-e327525879d1",
   "metadata": {},
   "outputs": [
    {
     "data": {
      "text/plain": [
       "(11, 2)"
      ]
     },
     "execution_count": 20,
     "metadata": {},
     "output_type": "execute_result"
    }
   ],
   "source": [
    "divmod(35,3)"
   ]
  },
  {
   "cell_type": "code",
   "execution_count": 21,
   "id": "652cebe8-981f-4d76-808a-9a4783ae5470",
   "metadata": {},
   "outputs": [
    {
     "data": {
      "text/plain": [
       "35"
      ]
     },
     "execution_count": 21,
     "metadata": {},
     "output_type": "execute_result"
    }
   ],
   "source": [
    "q,r = divmod(35,3)\n",
    "q*3+r"
   ]
  },
  {
   "cell_type": "markdown",
   "id": "dd0c457e-be1d-4858-a7af-d647e192592f",
   "metadata": {},
   "source": [
    "This can also be done individually using `//` and `%`."
   ]
  },
  {
   "cell_type": "code",
   "execution_count": 22,
   "id": "5e8b0f1f-5471-4ed9-b234-b5c71a30d1cd",
   "metadata": {},
   "outputs": [
    {
     "data": {
      "text/plain": [
       "11"
      ]
     },
     "execution_count": 22,
     "metadata": {},
     "output_type": "execute_result"
    }
   ],
   "source": [
    "35//3"
   ]
  },
  {
   "cell_type": "code",
   "execution_count": 23,
   "id": "783c1fb2-1cc6-4775-903e-f525f95908f0",
   "metadata": {},
   "outputs": [
    {
     "data": {
      "text/plain": [
       "2"
      ]
     },
     "execution_count": 23,
     "metadata": {},
     "output_type": "execute_result"
    }
   ],
   "source": [
    "35%3"
   ]
  },
  {
   "cell_type": "markdown",
   "id": "6f8904b1-6075-4101-ad74-d771fc21ffc0",
   "metadata": {},
   "source": [
    "### Sections 2.7 and 2.9: Number Theory Algorithms\n",
    "\n",
    "In the `crypto.py` package we have the algorithms to compute: `gcd`, `xgcd`, and $a^{-1} \\mod m$, and Euler's phi-function."
   ]
  },
  {
   "cell_type": "markdown",
   "id": "23e604ce-dfe0-4874-b203-d747f1ac3725",
   "metadata": {},
   "source": [
    "Examples:"
   ]
  },
  {
   "cell_type": "code",
   "execution_count": 24,
   "id": "5dbbf114-9731-45ba-913b-4c6ae7f0db90",
   "metadata": {},
   "outputs": [
    {
     "data": {
      "text/plain": [
       "210"
      ]
     },
     "execution_count": 24,
     "metadata": {},
     "output_type": "execute_result"
    }
   ],
   "source": [
    "gcd(124950,68040)"
   ]
  },
  {
   "cell_type": "code",
   "execution_count": 25,
   "id": "a10f2d6b-f0d2-4d2d-a504-036a59c3df9f",
   "metadata": {},
   "outputs": [
    {
     "data": {
      "text/plain": [
       "(210, 55, -101)"
      ]
     },
     "execution_count": 25,
     "metadata": {},
     "output_type": "execute_result"
    }
   ],
   "source": [
    "xgcd(124950,68040)"
   ]
  },
  {
   "cell_type": "code",
   "execution_count": 26,
   "id": "aa3f0617-b5f4-4828-92a6-18019ea11a0e",
   "metadata": {},
   "outputs": [
    {
     "data": {
      "text/plain": [
       "210"
      ]
     },
     "execution_count": 26,
     "metadata": {},
     "output_type": "execute_result"
    }
   ],
   "source": [
    "# check\n",
    "55*124950+(-101)*68040"
   ]
  },
  {
   "cell_type": "code",
   "execution_count": 27,
   "id": "ca2e9cf8-a648-4791-88a7-a102a2675687",
   "metadata": {},
   "outputs": [
    {
     "data": {
      "text/plain": [
       "9"
      ]
     },
     "execution_count": 27,
     "metadata": {},
     "output_type": "execute_result"
    }
   ],
   "source": [
    "findModInverse(3,26)"
   ]
  },
  {
   "cell_type": "code",
   "execution_count": 28,
   "id": "0c771541-e862-495f-afe5-dd71c358e101",
   "metadata": {},
   "outputs": [
    {
     "data": {
      "text/plain": [
       "1"
      ]
     },
     "execution_count": 28,
     "metadata": {},
     "output_type": "execute_result"
    }
   ],
   "source": [
    "# check\n",
    "3*9 % 26"
   ]
  },
  {
   "cell_type": "code",
   "execution_count": 29,
   "id": "ec0eeef3-bed7-4c51-be95-966f0883f590",
   "metadata": {},
   "outputs": [
    {
     "data": {
      "text/plain": [
       "4"
      ]
     },
     "execution_count": 29,
     "metadata": {},
     "output_type": "execute_result"
    }
   ],
   "source": [
    "eulerPhi(10)"
   ]
  },
  {
   "cell_type": "code",
   "execution_count": null,
   "id": "40add555-d5c7-4819-9e2b-e207e593e23b",
   "metadata": {},
   "outputs": [],
   "source": []
  },
  {
   "cell_type": "markdown",
   "id": "9ab23906-688a-4ff0-b969-c7cdb9be3d36",
   "metadata": {},
   "source": [
    "[back to Table of Contents](#toc)"
   ]
  },
  {
   "cell_type": "markdown",
   "id": "4c2933d3-6310-4f13-9f96-118b943af1ca",
   "metadata": {},
   "source": [
    "## Chapter 3: Affine Cipher\n",
    "<a id='chap3'></a>\n",
    "\n",
    "First start with a string of symbols that are to be encoded. Anything not included here will remain unchanged in the ciphertext.\n",
    "By default the list of symbols is \n",
    "\n",
    "    SYMBOLS = 'ABCDEFGHIJKLMNOPQRSTUVWXYZ'\n",
    "\n",
    "We have two functions: `affineEncrypt` and `affineDecrypt`, both take as input: \n",
    "1. `keyA`, `keyB` - the encryption key: $ 0 \\le keyA, keyB <$ `len(symbolList)` and `keyA` relatively prime to `len(symbolList)`\n",
    "1. `message` - a message to be encrypted/decrypted,  \n",
    "1. `symbolList` - an (ordered) string of symbols (default `SYMBOLS = 'ABCDEFGHIJKLMNOPQRSTUVWXYZ'`)."
   ]
  },
  {
   "cell_type": "markdown",
   "id": "3af48407-0a86-4b84-a03c-b434dc3e98c9",
   "metadata": {},
   "source": [
    "**Example: Affine Cipher** "
   ]
  },
  {
   "cell_type": "code",
   "execution_count": 30,
   "id": "437b5fab-a500-4478-ba82-5fff3eeb8856",
   "metadata": {},
   "outputs": [
    {
     "name": "stdout",
     "output_type": "stream",
     "text": [
      "Key: 15, 21\n",
      "message text:\n",
      "THIS IS MY SECRET MESSAGE\n",
      "Encrypted text:\n",
      "UWLF LF TR FDZQDU TDFFVHD\n"
     ]
    }
   ],
   "source": [
    "# Example 1 of Affine cipher:\n",
    "\n",
    "SYMBOLS = 'ABCDEFGHIJKLMNOPQRSTUVWXYZ'\n",
    "\n",
    "message = \"\"\"THIS IS MY SECRET MESSAGE\"\"\"\n",
    "\n",
    "keyA = 15   # this number must be relatively prime to length of SYMBOLS\n",
    "keyB = 21\n",
    "    \n",
    "translated = affineEncrypt(keyA, keyB, message, SYMBOLS)   \n",
    "\n",
    "print('Key: %s, %s' % (keyA,keyB))\n",
    "print('message text:')\n",
    "print(message) \n",
    "print('Encrypted text:')\n",
    "print(translated)     "
   ]
  },
  {
   "cell_type": "code",
   "execution_count": 31,
   "id": "6790a384-1f8b-469c-ab9b-51ce5f8f2e4c",
   "metadata": {},
   "outputs": [
    {
     "data": {
      "text/plain": [
       "'THIS IS MY SECRET MESSAGE'"
      ]
     },
     "execution_count": 31,
     "metadata": {},
     "output_type": "execute_result"
    }
   ],
   "source": [
    "ciphertext = \"UWLF LF TR FDZQDU TDFFVHD\"\n",
    "affineDecrypt(keyA, keyB, ciphertext, SYMBOLS)"
   ]
  },
  {
   "cell_type": "code",
   "execution_count": null,
   "id": "a76d4110-0711-40db-a5b6-41f879d7064d",
   "metadata": {},
   "outputs": [],
   "source": []
  },
  {
   "cell_type": "code",
   "execution_count": null,
   "id": "13ac2369-c422-45ec-bdd6-87ba232776b2",
   "metadata": {},
   "outputs": [],
   "source": []
  },
  {
   "cell_type": "code",
   "execution_count": null,
   "id": "a3de7f82-286d-4602-9ee8-91ef1573b47e",
   "metadata": {},
   "outputs": [],
   "source": []
  },
  {
   "cell_type": "code",
   "execution_count": null,
   "id": "d588a0c3-83cb-400d-9eb6-14726cdcd9fe",
   "metadata": {},
   "outputs": [],
   "source": []
  },
  {
   "cell_type": "markdown",
   "id": "7f347094-e270-4bc6-b816-0579b118fd8c",
   "metadata": {},
   "source": [
    "[back to Table of Contents](#toc)"
   ]
  },
  {
   "cell_type": "markdown",
   "id": "7149eb11-5c5b-45e5-b3de-392957dc624f",
   "metadata": {},
   "source": [
    "## Chapter 4: Vigenere Cipher\n",
    "<a id='chap4'></a>\n",
    "\n",
    "First start with a string of symbols that are to be encoded. Anything not included here will remain unchanged in the ciphertext.\n",
    "By default the list of symbols is \n",
    "\n",
    "    SYMBOLS = 'ABCDEFGHIJKLMNOPQRSTUVWXYZ'\n",
    "\n",
    "We have two functions: `vigenereEncrypt` and `vigenereDecrypt`, both functions take as input: \n",
    "1. `key` - the encryption key: a string of characters from symbolList\n",
    "1. `message` - a message to be encrypted/decrypted,  \n",
    "1. `symbolList` - an (ordered) string of symbols (default `SYMBOLS = 'ABCDEFGHIJKLMNOPQRSTUVWXYZ'`)."
   ]
  },
  {
   "cell_type": "markdown",
   "id": "d759f37e-1847-441c-a9c8-8adfa5a5896e",
   "metadata": {},
   "source": [
    "**Example: Viginere Cipher**"
   ]
  },
  {
   "cell_type": "code",
   "execution_count": 32,
   "id": "12b0ec63-ab1e-4174-8df0-389c98fbab92",
   "metadata": {},
   "outputs": [
    {
     "name": "stdout",
     "output_type": "stream",
     "text": [
      "Symbol list: ABCDEFGHIJKLMNOPQRSTUVWXYZ\n",
      "Key: CAMP\n",
      "message text:\n",
      "THIS IS MY SECRET MESSAGE I WILL ADD A FEW MORE WORDS TO MAKE IT A BIT LONGER\n",
      "Encrypted text:\n",
      "VHUH KS YN UEOGGT YTUSMVG I IXNL MSF A RTY MAGG WAGFS FD OAWT KT M QKT XDPGQG\n"
     ]
    }
   ],
   "source": [
    "# Example:\n",
    "SYMBOLS = 'ABCDEFGHIJKLMNOPQRSTUVWXYZ'\n",
    "message = '''THIS IS MY SECRET MESSAGE I WILL ADD A FEW MORE WORDS TO MAKE IT A BIT LONGER'''\n",
    "key = 'CAMP'\n",
    "\n",
    "translated = vigenereEncrypt(key, message, SYMBOLS)\n",
    "\n",
    "print(f'Symbol list: {SYMBOLS}')\n",
    "print(f'Key: {key}')\n",
    "print('message text:')\n",
    "print(message) \n",
    "print('Encrypted text:')\n",
    "print(translated)  "
   ]
  },
  {
   "cell_type": "code",
   "execution_count": 33,
   "id": "6402e1bf-46f3-44ce-b6ed-8a6e627c0225",
   "metadata": {},
   "outputs": [
    {
     "data": {
      "text/plain": [
       "'THIS IS MY SECRET MESSAGE I WILL ADD A FEW MORE WORDS TO MAKE IT A BIT LONGER'"
      ]
     },
     "execution_count": 33,
     "metadata": {},
     "output_type": "execute_result"
    }
   ],
   "source": [
    "vigenereDecrypt(key, translated, SYMBOLS)"
   ]
  },
  {
   "cell_type": "markdown",
   "id": "ff97868d-012c-4cfc-bff1-cf246e04bd7f",
   "metadata": {},
   "source": [
    "**Example 4.2** in notes"
   ]
  },
  {
   "cell_type": "code",
   "execution_count": 34,
   "id": "049d9f02-7958-4869-8e87-2c44b426ec1f",
   "metadata": {},
   "outputs": [
    {
     "name": "stdout",
     "output_type": "stream",
     "text": [
      "Symbol list: ABCDEFGHIJKLMNOPQRSTUVWXYZ\n",
      "Key: CIPHER\n",
      "message1 text:\n",
      "THEMANTHEWOMAN\n",
      "Encrypted text:\n",
      "VPTTEEVPTDSDCV\n",
      "message2 text:\n",
      "THECHILDTHEWOMAN\n",
      "Encrypted text:\n",
      "VPTJLZNLIOINQUPU\n"
     ]
    }
   ],
   "source": [
    "SYMBOLS = 'ABCDEFGHIJKLMNOPQRSTUVWXYZ'\n",
    "message1 = '''THEMANTHEWOMAN'''\n",
    "message2 = '''THECHILDTHEWOMAN'''\n",
    "key = 'CIPHER'\n",
    "\n",
    "translated1 = vigenereEncrypt(key, message1, SYMBOLS)\n",
    "translated2 = vigenereEncrypt(key, message2, SYMBOLS)\n",
    "\n",
    "print(f'Symbol list: {SYMBOLS}')\n",
    "print(f'Key: {key}')\n",
    "print('message1 text:')\n",
    "print(message1) \n",
    "print('Encrypted text:')\n",
    "print(translated1) \n",
    "print('message2 text:')\n",
    "print(message2) \n",
    "print('Encrypted text:')\n",
    "print(translated2)   "
   ]
  },
  {
   "cell_type": "code",
   "execution_count": null,
   "id": "4fafe3ad-22e8-4ee2-9293-b6108b460bc5",
   "metadata": {},
   "outputs": [],
   "source": []
  },
  {
   "cell_type": "markdown",
   "id": "3ba92b15-f190-4ad3-9652-9ad53cd3f95b",
   "metadata": {},
   "source": [
    "[back to Table of Contents](#toc)"
   ]
  },
  {
   "cell_type": "markdown",
   "id": "74769171-22a0-4e56-a25b-cd5ac0bc928c",
   "metadata": {},
   "source": [
    "## Appendix B: Tools for Cryptanalysis\n",
    "<a id='cryptanalysis'></a>\n",
    "\n",
    "We now create some tools that will help us in cracking some ciphers. First is a tool that counts the occurrences of each letter in a block of text. The `getLetterCount` function returns a `dictionary` which, in this case, is just an object consisting of the letters of the alphabet (called the *keys*), and associated to each letter a *value*, which is the number of times that letter appeared in the text.  Look at the example below and it should make this rather convoluted description crystal clear. "
   ]
  },
  {
   "cell_type": "markdown",
   "id": "a9d5090a-8a8d-4bbb-97d7-92b3e4502f48",
   "metadata": {},
   "source": [
    "**Example:**  We will count the number of occurences of each letter in the message below. We will also show a bar graph of the letter frequencies."
   ]
  },
  {
   "cell_type": "code",
   "execution_count": 35,
   "id": "6f14a922-193f-4520-9db9-22e3252c16be",
   "metadata": {},
   "outputs": [
    {
     "name": "stdout",
     "output_type": "stream",
     "text": [
      "{'A': 135, 'B': 30, 'C': 74, 'D': 58, 'E': 196, 'F': 37, 'G': 39, 'H': 87, 'I': 139, 'J': 2, 'K': 8, 'L': 62, 'M': 58, 'N': 122, 'O': 113, 'P': 36, 'Q': 2, 'R': 106, 'S': 89, 'T': 140, 'U': 37, 'V': 14, 'W': 30, 'X': 3, 'Y': 21, 'Z': 1}\n"
     ]
    },
    {
     "data": {
      "image/png": "[encoded data removed]",
      "text/plain": [
       "<Figure size 640x480 with 1 Axes>"
      ]
     },
     "metadata": {},
     "output_type": "display_data"
    }
   ],
   "source": [
    "# Example 1:\n",
    "message = \"\"\"Alan Mathison Turing was a British mathematician, logician, cryptanalyst, and computer\n",
    "scientist. He was highly influential in the development of computer science, providing a\n",
    "formalisation of the concepts of \"algorithm\" and \"computation\" with the Turing machine. Turing\n",
    "is widely considered to be the father of computer science and artificial intelligence. During\n",
    "World War II, Turing worked for the Government Code and Cypher School (GCCS) at Bletchley Park,\n",
    "Britain's codebreaking centre. For a time he was head of Hut 8, the section responsible for\n",
    "German naval cryptanalysis. He devised a number of techniques for breaking German ciphers,\n",
    "including the method of the bombe, an electromechanical machine that could find settings\n",
    "for the Enigma machine. After the war he worked at the National Physical Laboratory, where\n",
    "he created one of the first designs for a stored-program computer, the ACE. In 1948 Turing\n",
    "joined Max Newman's Computing Laboratory at Manchester University, where he assisted in the\n",
    "development of the Manchester computers and became interested in mathematical biology. He wrote\n",
    "a paper on the chemical basis of morphogenesis, and predicted oscillating chemical reactions\n",
    "such as the Belousov-Zhabotinsky reaction, which were first observed in the 1960s. Turing's\n",
    "homosexuality resulted in a criminal prosecution in 1952, when homosexual acts were still\n",
    "illegal in the United Kingdom. He accepted treatment with female hormones (chemical castration)\n",
    "as an alternative to prison. Turing died in 1954, just over two weeks before his 42nd birthday,\n",
    "from cyanide poisoning. An inquest determined that his death was suicide; his mother and some\n",
    "others believed his death was accidental. On 10 September 2009, following an Internet campaign,\n",
    "British Prime Minister Gordon Brown made an official public apology on behalf of the British\n",
    "government for \"the appalling way he was treated.\" As of May 2012 a private member's bill was\n",
    "before the House of Lords which would grant Turing a statutory pardon if enacted.\"\"\"\n",
    "\n",
    "letterCounts = getLetterCounts(message)\n",
    "print(letterCounts)\n",
    "plotLetterCounts(letterCounts)"
   ]
  },
  {
   "cell_type": "code",
   "execution_count": 36,
   "id": "563ddbd0-36f1-4e19-a6ac-c963ed9de305",
   "metadata": {},
   "outputs": [
    {
     "name": "stdout",
     "output_type": "stream",
     "text": [
      "{'A': 12, 'B': 1, 'C': 5, 'D': 1, 'E': 3, 'F': 0, 'G': 2, 'H': 3, 'I': 10, 'J': 0, 'K': 0, 'L': 3, 'M': 4, 'N': 8, 'O': 3, 'P': 2, 'Q': 0, 'R': 4, 'S': 6, 'T': 10, 'U': 2, 'V': 0, 'W': 1, 'X': 0, 'Y': 2, 'Z': 0}\n"
     ]
    },
    {
     "data": {
      "image/png": "[encoded data removed]",
      "text/plain": [
       "<Figure size 640x480 with 1 Axes>"
      ]
     },
     "metadata": {},
     "output_type": "display_data"
    }
   ],
   "source": [
    "# Example:\n",
    "message = '''Alan Mathison Turing was a British mathematician, \n",
    "logician, cryptanalyst, and computer scientist.'''\n",
    "\n",
    "letterCounts = getLetterCounts(message)\n",
    "print(letterCounts)\n",
    "plotLetterCounts(letterCounts)\t"
   ]
  },
  {
   "cell_type": "code",
   "execution_count": null,
   "id": "f5161542-a1f4-4d24-913b-82b2f53c9953",
   "metadata": {},
   "outputs": [],
   "source": []
  },
  {
   "cell_type": "markdown",
   "id": "414ecf6c-f402-4d85-9776-b14e16d26c4a",
   "metadata": {},
   "source": [
    "### Kasiski Test - for Vigenere Cipher\n",
    "\n",
    "Text the was encrypted using the Vigenere cipher may seem like it should be difficult to crack. After all, if we don't know the length of the key then we don't know which characters were encoded using the same shift.  However, considering \"words\" of length 3 or more appearing in multiple places of the ciphertext it is likely that they came from the same words in the plaintext and just happen to have been encoded in the same way (that is, the spacing between them coincidently matched the length of the key). This is something we can exploit.   \n",
    "\n",
    "The `findRepeatSequencesSpacings` function in `crypto.py` analyzes the message text and returns all repeated sequences of length 3 to 5 characters along with how far apart they are in the message.  It is quite likely that are key has length which divides all these values.  In other words, the 'key' to unlocking the key length is the gcd."
   ]
  },
  {
   "cell_type": "markdown",
   "id": "f0e83dcb-0314-4ae4-806f-9c1955ab3fca",
   "metadata": {},
   "source": [
    "**Example:** In this example we demonstrate what`findRepeatSequencesSpacings` does.  Consider the ciphertext\n",
    "\n",
    "    CHREEVOAHMAERATBIAXXWTNXBEEOPHBSBQMQEQERBWRVXUOAKXAOSXXWEAHBWGJMMQMNKGRFVGXWTRZXWIAKLXFPSKAUTEMNDCMGTSXMXBTUIADNGMGPSRELXNJELXVRVPRTULHDNQWTWDTYGBPHXTFALJHASVBFXNGLLCHRZBWELEKMSJIKNBHWRJGNMGJSGLXFEYPHAGNRBIEQJTAMRVLCRREMNDGLXRRIMGNSNRWCHRQHAEYEVTAQEBBIPEEWEVKAKOEWADREMXMTBHHCHRTKDNVRZCHRCLQOHPWQAIIWXNRMGWOIIFKEE\n",
    "\n",
    "Let's find all repeated occurrences of strings of length 3 to 5, and report back the distance between successive occurrences of the strings.    "
   ]
  },
  {
   "cell_type": "code",
   "execution_count": 37,
   "id": "aef42fd5-416e-4b3c-afd5-de0d0cc83460",
   "metadata": {},
   "outputs": [
    {
     "data": {
      "text/plain": [
       "{'CHR': [165, 235, 275, 285, 70, 110, 120, 40, 50, 10],\n",
       " 'XXW': [35],\n",
       " 'XWT': [55],\n",
       " 'LXF': [109],\n",
       " 'EMN': [125],\n",
       " 'MND': [125],\n",
       " 'ELX': [5],\n",
       " 'GLX': [30],\n",
       " 'REM': [49],\n",
       " 'EMND': [125]}"
      ]
     },
     "execution_count": 37,
     "metadata": {},
     "output_type": "execute_result"
    }
   ],
   "source": [
    "ciphertext = \"\"\"CHREEVOAHMAERATBIAXXWTNXBEEOPHBSBQMQEQERBWRVXUOAKXAOSXXWEAHBWGJMMQMNKGRFVGXWTRZXWIAKLXFPSKAUTEMNDCMGTSXMXBTUIADNGMGPSRELXNJELXVRVPRTULHDNQWTWDTYGBPHXTFALJHASVBFXNGLLCHRZBWELEKMSJIKNBHWRJGNMGJSGLXFEYPHAGNRBIEQJTAMRVLCRREMNDGLXRRIMGNSNRWCHRQHAEYEVTAQEBBIPEEWEVKAKOEWADREMXMTBHHCHRTKDNVRZCHRCLQOHPWQAIIWXNRMGWOIIFKEE\"\"\"\n",
    "findRepeatSequencesSpacings(ciphertext)"
   ]
  },
  {
   "cell_type": "markdown",
   "id": "7c6cb077-bc3c-4e35-a4e2-9d5e6f8d4536",
   "metadata": {},
   "source": [
    "From this is seems plausible that the keyword has length 5, since most gaps are divisible by 5."
   ]
  },
  {
   "cell_type": "code",
   "execution_count": null,
   "id": "e58ef327-db4a-4da8-925e-2ad86be43d70",
   "metadata": {},
   "outputs": [],
   "source": []
  },
  {
   "cell_type": "code",
   "execution_count": null,
   "id": "b7e7aecd-6aa7-45ba-8ad8-f40577faea38",
   "metadata": {},
   "outputs": [],
   "source": []
  },
  {
   "cell_type": "markdown",
   "id": "ca39892e-5183-49e7-913f-5646c7f6953f",
   "metadata": {},
   "source": [
    "### Index of Coincidence\n",
    "\n",
    "If two randomly selected characters are taken from a block of English text what is the probability they will be the same character?  (This probability is called the **index of coincidence**.) Well, it turns out that the answer to this question can provide insight into the length of the key for text encrypted with the Vigenere cipher.\n",
    "\n",
    "The probability that two randomly selected characters are the same is about 0.065 (or 6.5%). How can we use this fact?"
   ]
  },
  {
   "cell_type": "code",
   "execution_count": 38,
   "id": "d2d904df-4b7b-4b8e-9200-af1e1c99400c",
   "metadata": {},
   "outputs": [
    {
     "name": "stdout",
     "output_type": "stream",
     "text": [
      "key length = 2, index of coincidence = [0.0456, 0.041]\n",
      "key length = 3, index of coincidence = [0.0432, 0.0497, 0.0471]\n",
      "key length = 4, index of coincidence = [0.0422, 0.039, 0.0453, 0.0403]\n",
      "key length = 5, index of coincidence = [0.063, 0.0681, 0.0686, 0.0608, 0.0724]\n",
      "key length = 6, index of coincidence = [0.0443, 0.0437, 0.0475, 0.0415, 0.049, 0.037]\n"
     ]
    }
   ],
   "source": [
    "# Example\n",
    "message = '''CHREEVOAHMAERATBIAXXWTNXBEEOPHBSBQMQEQERBWRVXUOAKXAOSXXWEAHBWGJMMQMNKGRFVGXWTRZXWIAKLXFPSKAUTEMNDCMGTSXMXBTUIADNGMGPSRELXNJELXVRVPRTULHDNQWTWDTYGBPHXTFALJHASVBFXNGLLCHRZBWELEKMSJIKNBHWRJGNMGJSGLXFEYPHAGNRBIEQJTAMRVLCRREMNDGLXRRIMGNSNRWCHRQHAEYEVTAQEBBIPEEWEVKAKOEWADREMXMTBHHCHRTKDNVRZCHRCLQOHPWQAIIWXNRMGWOIIFKEE'''\n",
    "for k in range(2,7):\n",
    "    print('key length = {0}, index of coincidence = {1}'.format(k,indexOfCoincidence(message,k)))"
   ]
  },
  {
   "cell_type": "markdown",
   "id": "c14208ce-8da2-44bc-9fa5-fb84467e1d91",
   "metadata": {},
   "source": [
    "#### Example of how to use the Index of Coincidence"
   ]
  },
  {
   "cell_type": "markdown",
   "id": "b8bbd160-8f40-459e-8be1-bb8440419933",
   "metadata": {},
   "source": [
    "Now let's figure out what it is actually doing.\n",
    "\n",
    "Consider the text:\n",
    "\n",
    "    Puzzles are made of the things that the mathematician, no less than the child, plays with, and dreams and wonders about, for they are made of the things and circumstances of the world he or she lives in.\n",
    "    \n",
    "We'll convert it to uppercase and strip away everything but the letters:   \n",
    "\n",
    "    puzzlesaremadeofthethingsthatthemathematiciannolessthanthechildplayswithanddreamsandwondersaboutfortheyaremadeofthethingsandcircumstancesoftheworldheorshelivesin\n",
    "    \n",
    "If we were to select any two positions in the text the probability that the characters at those positions are the same (called the **index of coincidence**) should be around 0.065.  Moreover, if we split up the string into substrings by going through the string from left to right and subsequently dropping each letter into a substring as you would deal out a deck of cards:\n",
    "\n",
    "    substring1: p l r ...\n",
    "    substring2: u e e ...\n",
    "    substring3: z s m ... \n",
    "    substring4: z a a ...\n",
    "    \n",
    "then for each of these substrings we must also have an index of coincidence of approximately 0.065. \n",
    "\n",
    "If we encrypt this text using the Vigenere cipher then each substring that was encrypted using the same 'shift' would also have this same index of coincidence.  On the other hand, mixing together letters encrypted using different shifts would not have this same index of coincidence.  \n",
    "\n",
    "Let's look at an example:"
   ]
  },
  {
   "cell_type": "code",
   "execution_count": 39,
   "id": "5de1786a-ec33-40a4-9b8a-5cae60579e9d",
   "metadata": {},
   "outputs": [
    {
     "name": "stdout",
     "output_type": "stream",
     "text": [
      "pvbzmgsbtencdfqfujeujioisujauvhfoaujenctjeibpnpnetuticnujedjimfpmcytyiujaofdsganuaofwppdftsbdovvfpttigybtencdfqfujeujioisbpddkrdwmtvaoeetqfujexqrmfhfqrtjemkvfuio\n"
     ]
    }
   ],
   "source": [
    "message = \"\"\"puzzlesaremadeofthethingsthatthemathematiciannolessthanthechildplayswithanddreamsandwondersaboutfortheyaremadeofthethingsandcircumstancesoftheworldheorshelivesin\"\"\"\n",
    "key = 'ABC'\n",
    "ciphertext = vigenereEncrypt(key,message)\n",
    "print(ciphertext)"
   ]
  },
  {
   "cell_type": "markdown",
   "id": "7149b8b6-e759-4b9d-aa2c-2792c72f2113",
   "metadata": {},
   "source": [
    "Suppose we guess that this ciphertext was produced using a key length of 2, then we compute the index of coincidence for each of the two substrings:"
   ]
  },
  {
   "cell_type": "code",
   "execution_count": 40,
   "id": "4294d139-59dc-468b-89cb-2a0e03c0fd16",
   "metadata": {},
   "outputs": [
    {
     "data": {
      "text/plain": [
       "[0.0475, 0.0478]"
      ]
     },
     "execution_count": 40,
     "metadata": {},
     "output_type": "execute_result"
    }
   ],
   "source": [
    "indexOfCoincidence(ciphertext,2)"
   ]
  },
  {
   "cell_type": "markdown",
   "id": "e80fc477-5cfa-4177-85d7-9db3b066cd0c",
   "metadata": {},
   "source": [
    "Neither is close to 0.065 so we likely don't have the correct key length.\n",
    "\n",
    "Let's loop over key lengths from 2 to 5 and see which one returns values of 0.065 or higher."
   ]
  },
  {
   "cell_type": "code",
   "execution_count": 41,
   "id": "d12052f5-7d26-4234-82bb-0f1ed3e8b34d",
   "metadata": {},
   "outputs": [
    {
     "name": "stdout",
     "output_type": "stream",
     "text": [
      "keylength = 2 , index of coincidence = [0.0475, 0.0478]\n",
      "keylength = 3 , index of coincidence = [0.0748, 0.0832, 0.074]\n",
      "keylength = 4 , index of coincidence = [0.0549, 0.0487, 0.0372, 0.0551]\n",
      "keylength = 5 , index of coincidence = [0.0511, 0.0484, 0.0403, 0.0544, 0.0585]\n"
     ]
    }
   ],
   "source": [
    "for i in range(2,6):\n",
    "    print('keylength =', i,', index of coincidence =',  indexOfCoincidence(ciphertext,i))"
   ]
  },
  {
   "cell_type": "markdown",
   "id": "c6f5ac6e-df6e-4043-a78e-b0394739ed0b",
   "metadata": {},
   "source": [
    "The evidence suggests that the message was encoded with a key length is 3. \n",
    "\n",
    "Indeed it was, the key was 'ABC'."
   ]
  },
  {
   "cell_type": "code",
   "execution_count": null,
   "id": "9977a2c4-61a3-4349-9025-f0f52354aa7d",
   "metadata": {},
   "outputs": [],
   "source": []
  },
  {
   "cell_type": "code",
   "execution_count": null,
   "id": "36cedeed-6d1a-4a51-9208-51a4da988afc",
   "metadata": {},
   "outputs": [],
   "source": []
  },
  {
   "cell_type": "code",
   "execution_count": null,
   "id": "4564c6f9-2281-4357-81bd-739bf28a58cd",
   "metadata": {},
   "outputs": [],
   "source": []
  },
  {
   "cell_type": "code",
   "execution_count": null,
   "id": "a3de9b94-d244-4dfb-9a76-108f50f78502",
   "metadata": {},
   "outputs": [],
   "source": []
  },
  {
   "cell_type": "code",
   "execution_count": null,
   "id": "84fbfe47-d284-40f7-b93a-26566778e337",
   "metadata": {},
   "outputs": [],
   "source": []
  },
  {
   "cell_type": "code",
   "execution_count": null,
   "id": "82128509-bb25-45d9-b0ea-cbb8950e48ee",
   "metadata": {},
   "outputs": [],
   "source": []
  },
  {
   "cell_type": "code",
   "execution_count": null,
   "id": "be6ae62f-6964-4c16-871b-3328cc904c8a",
   "metadata": {},
   "outputs": [],
   "source": []
  },
  {
   "cell_type": "code",
   "execution_count": null,
   "id": "fafdef52-8a5f-4cbe-9405-4a77ef488c1a",
   "metadata": {},
   "outputs": [],
   "source": []
  }
 ],
 "metadata": {
  "kernelspec": {
   "display_name": "Python 3 (ipykernel)",
   "language": "python",
   "name": "python3"
  },
  "language_info": {
   "codemirror_mode": {
    "name": "ipython",
    "version": 3
   },
   "file_extension": ".py",
   "mimetype": "text/x-python",
   "name": "python",
   "nbconvert_exporter": "python",
   "pygments_lexer": "ipython3",
   "version": "3.12.10"
  }
 },
 "nbformat": 4,
 "nbformat_minor": 5
}
