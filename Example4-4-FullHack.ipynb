{
 "cells": [
  {
   "cell_type": "code",
   "execution_count": null,
   "id": "adc2ed87-bf00-4aa0-ba82-6d6c2f33bddb",
   "metadata": {},
   "outputs": [],
   "source": [
    "from crypto import *"
   ]
  },
  {
   "cell_type": "markdown",
   "id": "427c68ae-fb9f-440c-9ab6-d1600b3ecca7",
   "metadata": {},
   "source": [
    "# Example: Full Hack of Vigenere using Kasiski Examination and Index of Coincidence\n",
    "\n",
    "**Example 4.4** in notes\n",
    "\n",
    "First we attempt to find the key length using Kasiski Examination."
   ]
  },
  {
   "cell_type": "code",
   "execution_count": null,
   "id": "60610e93-c701-4c8e-972a-fadafb2ff93b",
   "metadata": {},
   "outputs": [],
   "source": [
    "SYMBOLS = 'ABCDEFGHIJKLMNOPQRSTUVWXYZ'\n",
    "\n",
    "ciphertext = 'CHREEVOAHMAERATBIAXXWTNXBEEOPHBSBQMQEQERBWRVXUOAKXAOSXXWEAHBWGJMMQMNKGRFVGXWTRZXWIAKLXFPSKAUTEMNDCMGTSXMXBTUIADNGMGPSRELXNJELXVRVPRTULHDNQWTWDTYGBPHXTFALJHASVBFXNGLLCHRZBWELEKMSJIKNBHWRJGNMGJSGLXFEYPHAGNRBIEQJTAMRVLCRREMNDGLXRRIMGNSNRWCHRQHAEYEVTAQEBBIPEEWEVKAKOEWADREMXMTBHHCHRTKDNVRZCHRCLQOHPWQAIIWXNRMGWOIIFKEE'\n",
    "findRepeatSequencesSpacings(ciphertext)"
   ]
  },
  {
   "cell_type": "markdown",
   "id": "b54c52ee-8f7f-481c-be25-1904ebfb4d00",
   "metadata": {},
   "source": [
    "Let's verify this with determining the index of coincidence for various key lengths."
   ]
  },
  {
   "cell_type": "code",
   "execution_count": null,
   "id": "b42342f9-e9ca-4538-a765-21958f9ea20f",
   "metadata": {},
   "outputs": [],
   "source": [
    "for m in range(2,8):\n",
    "    print(f'key length {m}: {indexOfCoincidence(ciphertext,m)}')"
   ]
  },
  {
   "cell_type": "markdown",
   "id": "008ef9ca-45b2-430d-bc97-492cba53faeb",
   "metadata": {},
   "source": [
    "Again, key length ____ looks to have an IC that matches English text.\n",
    "\n",
    "Assume: Key length is ____.\n",
    "\n",
    "Goal: hack the letters of the keyword:"
   ]
  },
  {
   "cell_type": "code",
   "execution_count": null,
   "id": "5ca59a93-9b0c-4843-a4a6-6e0ccd0d7d8e",
   "metadata": {},
   "outputs": [],
   "source": [
    "def splitMessage(message,m):\n",
    "    '''split message into m substrings'''\n",
    "    messages = ['']*m\n",
    "    currentIndex = 0\n",
    "    for i in range(len(message)):\n",
    "        messages[i%m] += message[i]\n",
    "    return messages"
   ]
  },
  {
   "cell_type": "code",
   "execution_count": null,
   "id": "d0232463-0b7a-4008-8126-537320009506",
   "metadata": {},
   "outputs": [],
   "source": [
    "splitMessage(ciphertext,5)"
   ]
  },
  {
   "cell_type": "code",
   "execution_count": null,
   "id": "2bbeff0a-e2a4-49ca-8e9b-465208b77053",
   "metadata": {},
   "outputs": [],
   "source": [
    "substrings = splitMessage(ciphertext,5)\n",
    "print(substrings[0])\n",
    "getLetterCounts(substrings[0])"
   ]
  },
  {
   "cell_type": "markdown",
   "id": "63a3f02d-8c93-43e6-ae76-bad3367bfaf2",
   "metadata": {},
   "source": [
    "For each substring (corresonding to the position of the same letter of the keyword), decrypt the substring with each letter A-Z, and look to see which decryption has high frequency of letters `ETAION`. The variable `keyWordIndex` controls which position of the key word we are attempting to hack - analyze it for values from 0 through 4."
   ]
  },
  {
   "cell_type": "code",
   "execution_count": null,
   "id": "37e831db-4f67-4f64-ae87-04424c5c59ce",
   "metadata": {},
   "outputs": [],
   "source": [
    "keyWordIndex = 4  # change to values 0 through 4\n",
    "print(f'Working on substring {keyWordIndex}: {substrings[keyWordIndex]}')\n",
    "for letter in SYMBOLS:\n",
    "    decryptedSubstring = vigenereDecrypt(letter,substrings[keyWordIndex], SYMBOLS)\n",
    "    letterFreq = getLetterCounts(decryptedSubstring)\n",
    "    freqs = []\n",
    "    for i in ['E','T','A','O','I','N']:\n",
    "        freqs.append(letterFreq[i])\n",
    "    print(f'decrypt with {letter}: ETAOIN appears {freqs}')  "
   ]
  },
  {
   "cell_type": "markdown",
   "id": "42086537-fc51-4ac0-8bca-9c23b411d34f",
   "metadata": {},
   "source": [
    "After trying each letter for each position of the keyword we have that the candidates for each letter are:\n",
    "\n",
    "    letter 0: \n",
    "    letter 1: \n",
    "    letter 2: \n",
    "    letter 3: \n",
    "    letter 4:\n",
    "\n",
    "Let's try ``.    \n",
    "    "
   ]
  },
  {
   "cell_type": "code",
   "execution_count": null,
   "id": "1dd9dcba-2583-42e0-a453-98bf415c4e0d",
   "metadata": {},
   "outputs": [],
   "source": [
    "vigenereDecrypt('', ciphertext, SYMBOLS)"
   ]
  },
  {
   "cell_type": "markdown",
   "id": "2f98ee9f-3e54-4deb-ba39-3ee57a160379",
   "metadata": {},
   "source": [
    "Success! We've hacked the cipher."
   ]
  }
 ],
 "metadata": {
  "kernelspec": {
   "display_name": "Python 3 (ipykernel)",
   "language": "python",
   "name": "python3"
  },
  "language_info": {
   "codemirror_mode": {
    "name": "ipython",
    "version": 3
   },
   "file_extension": ".py",
   "mimetype": "text/x-python",
   "name": "python",
   "nbconvert_exporter": "python",
   "pygments_lexer": "ipython3",
   "version": "3.12.10"
  }
 },
 "nbformat": 4,
 "nbformat_minor": 5
}
